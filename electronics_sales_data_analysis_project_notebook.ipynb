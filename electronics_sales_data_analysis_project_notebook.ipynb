{
  "nbformat": 4,
  "nbformat_minor": 0,
  "metadata": {
    "colab": {
      "provenance": []
    },
    "kernelspec": {
      "name": "python3",
      "display_name": "Python 3"
    },
    "language_info": {
      "name": "python"
    },
    "gpuClass": "standard"
  },
  "cells": [
    {
      "cell_type": "markdown",
      "source": [
        "### INTRODUCTION:\n",
        "\n",
        "\n",
        "*   In this Project i am going to analyse the electronics sales data.\n",
        "\n",
        "*   I am going to follow the 6 step analysis process which are;\n",
        "      \n",
        "      1. Ask\n",
        "      \n",
        "      2. Prepare\n",
        "\n",
        "      3. Process\n",
        "\n",
        "      4. Analyze\n",
        "\n",
        "      5. Share\n",
        "\n",
        "      6. Act"
      ],
      "metadata": {
        "id": "s7T9w6lBVoYG"
      }
    },
    {
      "cell_type": "markdown",
      "source": [
        "### **ASK:**\n",
        "\n",
        " \n",
        "*  **Stakeholders:** Here from my learnings i want to consider the key \n",
        "stakeholders as this project was  my own interest i did not conside them but it is good to consider in other scenarios. \n",
        "* **Buisness task:**\n",
        "  Here i just asked questions myself after looking at the dataset as follows:\n",
        "\n",
        "        1. which month has the largest sales ?\n",
        "        2. which day has the largest sales ?\n",
        "        3. which time of the day users are active ?\n",
        "        4. what was the top 10 most ordered combos ?\n",
        "        5. what was the  most ordered product and why ?\n",
        "\n",
        "\n",
        "\n",
        "\n"
      ],
      "metadata": {
        "id": "gqY7JlMxAnGO"
      }
    },
    {
      "cell_type": "markdown",
      "source": [
        "###**PREPARE AND PROCESS :**"
      ],
      "metadata": {
        "id": "z9AYh5oeF0tb"
      }
    },
    {
      "cell_type": "markdown",
      "source": [
        "\n",
        "\n",
        "1.   I am using **numpy** and **pandas** for data cleaning , data processing , and data analysis.which also includes data manipulation & data wrangling.\n",
        "2.   **Seaborn** and **matplotlib** for data visualization to share my analysis.\n",
        "\n"
      ],
      "metadata": {
        "id": "vgEvXMqF9kQj"
      }
    },
    {
      "cell_type": "markdown",
      "source": [
        "**Importing the required packages**"
      ],
      "metadata": {
        "id": "ErJDumMlF42I"
      }
    },
    {
      "cell_type": "code",
      "execution_count": null,
      "metadata": {
        "id": "vSBWg5RNJbQ3"
      },
      "outputs": [],
      "source": [
        "import pandas as pd\n",
        "import numpy as np\n",
        "import matplotlib.pyplot as plt\n",
        "import seaborn as sns"
      ]
    },
    {
      "cell_type": "markdown",
      "source": [
        "**Data acquisition:**"
      ],
      "metadata": {
        "id": "1qs-d3wKZ5YW"
      }
    },
    {
      "cell_type": "markdown",
      "source": [
        "Here i am using the 12 month electronics sales [dataset](https://github.com/KeithGalli/Pandas-Data-Science-Tasks/tree/master/SalesAnalysis/Sales_Data)\n",
        "\n",
        "I am using  glob module to import multiple csv files from folder ,but you can also use os module to import  the same.\n",
        "\n",
        "\n",
        "\n",
        " \n",
        "\n",
        "\n"
      ],
      "metadata": {
        "id": "jeKPJYRm8HKQ"
      }
    },
    {
      "cell_type": "code",
      "source": [
        "from glob import glob\n",
        "files = glob('/content/drive/MyDrive/Sales_Data/Sales*')"
      ],
      "metadata": {
        "id": "qn7LOVsfZ-RJ"
      },
      "execution_count": null,
      "outputs": []
    },
    {
      "cell_type": "markdown",
      "source": [
        "Merging the 12 months data into a single annual data using concat()"
      ],
      "metadata": {
        "id": "IbITRxnG-xPw"
      }
    },
    {
      "cell_type": "code",
      "source": [
        "annual_file = pd.concat(pd.read_csv(file) for file in files)"
      ],
      "metadata": {
        "id": "LknQOAzvaYKn"
      },
      "execution_count": null,
      "outputs": []
    },
    {
      "cell_type": "markdown",
      "source": [
        "creating  a dataframe"
      ],
      "metadata": {
        "id": "Z0qDOHnz_JEC"
      }
    },
    {
      "cell_type": "code",
      "source": [
        "df  = pd.DataFrame(annual_file)"
      ],
      "metadata": {
        "id": "kLeRrndhdMQc"
      },
      "execution_count": null,
      "outputs": []
    },
    {
      "cell_type": "markdown",
      "source": [
        "To get an overview i am using the head(), tail(0) and info() methods,also we can use sample which will give a random ones."
      ],
      "metadata": {
        "id": "tqc7-obI_cv4"
      }
    },
    {
      "cell_type": "code",
      "source": [
        "df.head()"
      ],
      "metadata": {
        "colab": {
          "base_uri": "https://localhost:8080/",
          "height": 206
        },
        "id": "ZQDDD6LadUXB",
        "outputId": "f2361f1c-a221-4f70-fc07-0189cd240f9c"
      },
      "execution_count": null,
      "outputs": [
        {
          "output_type": "execute_result",
          "data": {
            "text/plain": [
              "  Order ID                     Product Quantity Ordered Price Each  \\\n",
              "0   176558        USB-C Charging Cable                2      11.95   \n",
              "1      NaN                         NaN              NaN        NaN   \n",
              "2   176559  Bose SoundSport Headphones                1      99.99   \n",
              "3   176560                Google Phone                1        600   \n",
              "4   176560            Wired Headphones                1      11.99   \n",
              "\n",
              "       Order Date                      Purchase Address  \n",
              "0  04/19/19 08:46          917 1st St, Dallas, TX 75001  \n",
              "1             NaN                                   NaN  \n",
              "2  04/07/19 22:30     682 Chestnut St, Boston, MA 02215  \n",
              "3  04/12/19 14:38  669 Spruce St, Los Angeles, CA 90001  \n",
              "4  04/12/19 14:38  669 Spruce St, Los Angeles, CA 90001  "
            ],
            "text/html": [
              "\n",
              "  <div id=\"df-27362d90-34be-4088-8d42-b2cf10a4233f\">\n",
              "    <div class=\"colab-df-container\">\n",
              "      <div>\n",
              "<style scoped>\n",
              "    .dataframe tbody tr th:only-of-type {\n",
              "        vertical-align: middle;\n",
              "    }\n",
              "\n",
              "    .dataframe tbody tr th {\n",
              "        vertical-align: top;\n",
              "    }\n",
              "\n",
              "    .dataframe thead th {\n",
              "        text-align: right;\n",
              "    }\n",
              "</style>\n",
              "<table border=\"1\" class=\"dataframe\">\n",
              "  <thead>\n",
              "    <tr style=\"text-align: right;\">\n",
              "      <th></th>\n",
              "      <th>Order ID</th>\n",
              "      <th>Product</th>\n",
              "      <th>Quantity Ordered</th>\n",
              "      <th>Price Each</th>\n",
              "      <th>Order Date</th>\n",
              "      <th>Purchase Address</th>\n",
              "    </tr>\n",
              "  </thead>\n",
              "  <tbody>\n",
              "    <tr>\n",
              "      <th>0</th>\n",
              "      <td>176558</td>\n",
              "      <td>USB-C Charging Cable</td>\n",
              "      <td>2</td>\n",
              "      <td>11.95</td>\n",
              "      <td>04/19/19 08:46</td>\n",
              "      <td>917 1st St, Dallas, TX 75001</td>\n",
              "    </tr>\n",
              "    <tr>\n",
              "      <th>1</th>\n",
              "      <td>NaN</td>\n",
              "      <td>NaN</td>\n",
              "      <td>NaN</td>\n",
              "      <td>NaN</td>\n",
              "      <td>NaN</td>\n",
              "      <td>NaN</td>\n",
              "    </tr>\n",
              "    <tr>\n",
              "      <th>2</th>\n",
              "      <td>176559</td>\n",
              "      <td>Bose SoundSport Headphones</td>\n",
              "      <td>1</td>\n",
              "      <td>99.99</td>\n",
              "      <td>04/07/19 22:30</td>\n",
              "      <td>682 Chestnut St, Boston, MA 02215</td>\n",
              "    </tr>\n",
              "    <tr>\n",
              "      <th>3</th>\n",
              "      <td>176560</td>\n",
              "      <td>Google Phone</td>\n",
              "      <td>1</td>\n",
              "      <td>600</td>\n",
              "      <td>04/12/19 14:38</td>\n",
              "      <td>669 Spruce St, Los Angeles, CA 90001</td>\n",
              "    </tr>\n",
              "    <tr>\n",
              "      <th>4</th>\n",
              "      <td>176560</td>\n",
              "      <td>Wired Headphones</td>\n",
              "      <td>1</td>\n",
              "      <td>11.99</td>\n",
              "      <td>04/12/19 14:38</td>\n",
              "      <td>669 Spruce St, Los Angeles, CA 90001</td>\n",
              "    </tr>\n",
              "  </tbody>\n",
              "</table>\n",
              "</div>\n",
              "      <button class=\"colab-df-convert\" onclick=\"convertToInteractive('df-27362d90-34be-4088-8d42-b2cf10a4233f')\"\n",
              "              title=\"Convert this dataframe to an interactive table.\"\n",
              "              style=\"display:none;\">\n",
              "        \n",
              "  <svg xmlns=\"http://www.w3.org/2000/svg\" height=\"24px\"viewBox=\"0 0 24 24\"\n",
              "       width=\"24px\">\n",
              "    <path d=\"M0 0h24v24H0V0z\" fill=\"none\"/>\n",
              "    <path d=\"M18.56 5.44l.94 2.06.94-2.06 2.06-.94-2.06-.94-.94-2.06-.94 2.06-2.06.94zm-11 1L8.5 8.5l.94-2.06 2.06-.94-2.06-.94L8.5 2.5l-.94 2.06-2.06.94zm10 10l.94 2.06.94-2.06 2.06-.94-2.06-.94-.94-2.06-.94 2.06-2.06.94z\"/><path d=\"M17.41 7.96l-1.37-1.37c-.4-.4-.92-.59-1.43-.59-.52 0-1.04.2-1.43.59L10.3 9.45l-7.72 7.72c-.78.78-.78 2.05 0 2.83L4 21.41c.39.39.9.59 1.41.59.51 0 1.02-.2 1.41-.59l7.78-7.78 2.81-2.81c.8-.78.8-2.07 0-2.86zM5.41 20L4 18.59l7.72-7.72 1.47 1.35L5.41 20z\"/>\n",
              "  </svg>\n",
              "      </button>\n",
              "      \n",
              "  <style>\n",
              "    .colab-df-container {\n",
              "      display:flex;\n",
              "      flex-wrap:wrap;\n",
              "      gap: 12px;\n",
              "    }\n",
              "\n",
              "    .colab-df-convert {\n",
              "      background-color: #E8F0FE;\n",
              "      border: none;\n",
              "      border-radius: 50%;\n",
              "      cursor: pointer;\n",
              "      display: none;\n",
              "      fill: #1967D2;\n",
              "      height: 32px;\n",
              "      padding: 0 0 0 0;\n",
              "      width: 32px;\n",
              "    }\n",
              "\n",
              "    .colab-df-convert:hover {\n",
              "      background-color: #E2EBFA;\n",
              "      box-shadow: 0px 1px 2px rgba(60, 64, 67, 0.3), 0px 1px 3px 1px rgba(60, 64, 67, 0.15);\n",
              "      fill: #174EA6;\n",
              "    }\n",
              "\n",
              "    [theme=dark] .colab-df-convert {\n",
              "      background-color: #3B4455;\n",
              "      fill: #D2E3FC;\n",
              "    }\n",
              "\n",
              "    [theme=dark] .colab-df-convert:hover {\n",
              "      background-color: #434B5C;\n",
              "      box-shadow: 0px 1px 3px 1px rgba(0, 0, 0, 0.15);\n",
              "      filter: drop-shadow(0px 1px 2px rgba(0, 0, 0, 0.3));\n",
              "      fill: #FFFFFF;\n",
              "    }\n",
              "  </style>\n",
              "\n",
              "      <script>\n",
              "        const buttonEl =\n",
              "          document.querySelector('#df-27362d90-34be-4088-8d42-b2cf10a4233f button.colab-df-convert');\n",
              "        buttonEl.style.display =\n",
              "          google.colab.kernel.accessAllowed ? 'block' : 'none';\n",
              "\n",
              "        async function convertToInteractive(key) {\n",
              "          const element = document.querySelector('#df-27362d90-34be-4088-8d42-b2cf10a4233f');\n",
              "          const dataTable =\n",
              "            await google.colab.kernel.invokeFunction('convertToInteractive',\n",
              "                                                     [key], {});\n",
              "          if (!dataTable) return;\n",
              "\n",
              "          const docLinkHtml = 'Like what you see? Visit the ' +\n",
              "            '<a target=\"_blank\" href=https://colab.research.google.com/notebooks/data_table.ipynb>data table notebook</a>'\n",
              "            + ' to learn more about interactive tables.';\n",
              "          element.innerHTML = '';\n",
              "          dataTable['output_type'] = 'display_data';\n",
              "          await google.colab.output.renderOutput(dataTable, element);\n",
              "          const docLink = document.createElement('div');\n",
              "          docLink.innerHTML = docLinkHtml;\n",
              "          element.appendChild(docLink);\n",
              "        }\n",
              "      </script>\n",
              "    </div>\n",
              "  </div>\n",
              "  "
            ]
          },
          "metadata": {},
          "execution_count": 5
        }
      ]
    },
    {
      "cell_type": "code",
      "source": [
        "df.tail()"
      ],
      "metadata": {
        "colab": {
          "base_uri": "https://localhost:8080/",
          "height": 206
        },
        "id": "s2ojAG6fdfTl",
        "outputId": "1a27b065-d313-4963-887d-fae349fb16c7"
      },
      "execution_count": null,
      "outputs": [
        {
          "output_type": "execute_result",
          "data": {
            "text/plain": [
              "      Order ID                Product Quantity Ordered Price Each  \\\n",
              "20374   278792  AA Batteries (4-pack)                1       3.84   \n",
              "20375   278793       Wired Headphones                1      11.99   \n",
              "20376   278794  AA Batteries (4-pack)                1       3.84   \n",
              "20377   278795                 iPhone                1        700   \n",
              "20378   278796       Wired Headphones                1      11.99   \n",
              "\n",
              "           Order Date                         Purchase Address  \n",
              "20374  10/12/19 04:32    920 Adams St, San Francisco, CA 94016  \n",
              "20375  10/28/19 22:00   161 Chestnut St, Los Angeles, CA 90001  \n",
              "20376  10/09/19 20:58   346 Spruce St, San Francisco, CA 94016  \n",
              "20377  10/31/19 17:21           291 Hill St, Seattle, WA 98101  \n",
              "20378  10/13/19 11:20  547 Jefferson St, Los Angeles, CA 90001  "
            ],
            "text/html": [
              "\n",
              "  <div id=\"df-0308a073-d129-4b66-a9b2-441559e01a71\">\n",
              "    <div class=\"colab-df-container\">\n",
              "      <div>\n",
              "<style scoped>\n",
              "    .dataframe tbody tr th:only-of-type {\n",
              "        vertical-align: middle;\n",
              "    }\n",
              "\n",
              "    .dataframe tbody tr th {\n",
              "        vertical-align: top;\n",
              "    }\n",
              "\n",
              "    .dataframe thead th {\n",
              "        text-align: right;\n",
              "    }\n",
              "</style>\n",
              "<table border=\"1\" class=\"dataframe\">\n",
              "  <thead>\n",
              "    <tr style=\"text-align: right;\">\n",
              "      <th></th>\n",
              "      <th>Order ID</th>\n",
              "      <th>Product</th>\n",
              "      <th>Quantity Ordered</th>\n",
              "      <th>Price Each</th>\n",
              "      <th>Order Date</th>\n",
              "      <th>Purchase Address</th>\n",
              "    </tr>\n",
              "  </thead>\n",
              "  <tbody>\n",
              "    <tr>\n",
              "      <th>20374</th>\n",
              "      <td>278792</td>\n",
              "      <td>AA Batteries (4-pack)</td>\n",
              "      <td>1</td>\n",
              "      <td>3.84</td>\n",
              "      <td>10/12/19 04:32</td>\n",
              "      <td>920 Adams St, San Francisco, CA 94016</td>\n",
              "    </tr>\n",
              "    <tr>\n",
              "      <th>20375</th>\n",
              "      <td>278793</td>\n",
              "      <td>Wired Headphones</td>\n",
              "      <td>1</td>\n",
              "      <td>11.99</td>\n",
              "      <td>10/28/19 22:00</td>\n",
              "      <td>161 Chestnut St, Los Angeles, CA 90001</td>\n",
              "    </tr>\n",
              "    <tr>\n",
              "      <th>20376</th>\n",
              "      <td>278794</td>\n",
              "      <td>AA Batteries (4-pack)</td>\n",
              "      <td>1</td>\n",
              "      <td>3.84</td>\n",
              "      <td>10/09/19 20:58</td>\n",
              "      <td>346 Spruce St, San Francisco, CA 94016</td>\n",
              "    </tr>\n",
              "    <tr>\n",
              "      <th>20377</th>\n",
              "      <td>278795</td>\n",
              "      <td>iPhone</td>\n",
              "      <td>1</td>\n",
              "      <td>700</td>\n",
              "      <td>10/31/19 17:21</td>\n",
              "      <td>291 Hill St, Seattle, WA 98101</td>\n",
              "    </tr>\n",
              "    <tr>\n",
              "      <th>20378</th>\n",
              "      <td>278796</td>\n",
              "      <td>Wired Headphones</td>\n",
              "      <td>1</td>\n",
              "      <td>11.99</td>\n",
              "      <td>10/13/19 11:20</td>\n",
              "      <td>547 Jefferson St, Los Angeles, CA 90001</td>\n",
              "    </tr>\n",
              "  </tbody>\n",
              "</table>\n",
              "</div>\n",
              "      <button class=\"colab-df-convert\" onclick=\"convertToInteractive('df-0308a073-d129-4b66-a9b2-441559e01a71')\"\n",
              "              title=\"Convert this dataframe to an interactive table.\"\n",
              "              style=\"display:none;\">\n",
              "        \n",
              "  <svg xmlns=\"http://www.w3.org/2000/svg\" height=\"24px\"viewBox=\"0 0 24 24\"\n",
              "       width=\"24px\">\n",
              "    <path d=\"M0 0h24v24H0V0z\" fill=\"none\"/>\n",
              "    <path d=\"M18.56 5.44l.94 2.06.94-2.06 2.06-.94-2.06-.94-.94-2.06-.94 2.06-2.06.94zm-11 1L8.5 8.5l.94-2.06 2.06-.94-2.06-.94L8.5 2.5l-.94 2.06-2.06.94zm10 10l.94 2.06.94-2.06 2.06-.94-2.06-.94-.94-2.06-.94 2.06-2.06.94z\"/><path d=\"M17.41 7.96l-1.37-1.37c-.4-.4-.92-.59-1.43-.59-.52 0-1.04.2-1.43.59L10.3 9.45l-7.72 7.72c-.78.78-.78 2.05 0 2.83L4 21.41c.39.39.9.59 1.41.59.51 0 1.02-.2 1.41-.59l7.78-7.78 2.81-2.81c.8-.78.8-2.07 0-2.86zM5.41 20L4 18.59l7.72-7.72 1.47 1.35L5.41 20z\"/>\n",
              "  </svg>\n",
              "      </button>\n",
              "      \n",
              "  <style>\n",
              "    .colab-df-container {\n",
              "      display:flex;\n",
              "      flex-wrap:wrap;\n",
              "      gap: 12px;\n",
              "    }\n",
              "\n",
              "    .colab-df-convert {\n",
              "      background-color: #E8F0FE;\n",
              "      border: none;\n",
              "      border-radius: 50%;\n",
              "      cursor: pointer;\n",
              "      display: none;\n",
              "      fill: #1967D2;\n",
              "      height: 32px;\n",
              "      padding: 0 0 0 0;\n",
              "      width: 32px;\n",
              "    }\n",
              "\n",
              "    .colab-df-convert:hover {\n",
              "      background-color: #E2EBFA;\n",
              "      box-shadow: 0px 1px 2px rgba(60, 64, 67, 0.3), 0px 1px 3px 1px rgba(60, 64, 67, 0.15);\n",
              "      fill: #174EA6;\n",
              "    }\n",
              "\n",
              "    [theme=dark] .colab-df-convert {\n",
              "      background-color: #3B4455;\n",
              "      fill: #D2E3FC;\n",
              "    }\n",
              "\n",
              "    [theme=dark] .colab-df-convert:hover {\n",
              "      background-color: #434B5C;\n",
              "      box-shadow: 0px 1px 3px 1px rgba(0, 0, 0, 0.15);\n",
              "      filter: drop-shadow(0px 1px 2px rgba(0, 0, 0, 0.3));\n",
              "      fill: #FFFFFF;\n",
              "    }\n",
              "  </style>\n",
              "\n",
              "      <script>\n",
              "        const buttonEl =\n",
              "          document.querySelector('#df-0308a073-d129-4b66-a9b2-441559e01a71 button.colab-df-convert');\n",
              "        buttonEl.style.display =\n",
              "          google.colab.kernel.accessAllowed ? 'block' : 'none';\n",
              "\n",
              "        async function convertToInteractive(key) {\n",
              "          const element = document.querySelector('#df-0308a073-d129-4b66-a9b2-441559e01a71');\n",
              "          const dataTable =\n",
              "            await google.colab.kernel.invokeFunction('convertToInteractive',\n",
              "                                                     [key], {});\n",
              "          if (!dataTable) return;\n",
              "\n",
              "          const docLinkHtml = 'Like what you see? Visit the ' +\n",
              "            '<a target=\"_blank\" href=https://colab.research.google.com/notebooks/data_table.ipynb>data table notebook</a>'\n",
              "            + ' to learn more about interactive tables.';\n",
              "          element.innerHTML = '';\n",
              "          dataTable['output_type'] = 'display_data';\n",
              "          await google.colab.output.renderOutput(dataTable, element);\n",
              "          const docLink = document.createElement('div');\n",
              "          docLink.innerHTML = docLinkHtml;\n",
              "          element.appendChild(docLink);\n",
              "        }\n",
              "      </script>\n",
              "    </div>\n",
              "  </div>\n",
              "  "
            ]
          },
          "metadata": {},
          "execution_count": 6
        }
      ]
    },
    {
      "cell_type": "code",
      "source": [
        "df.info()"
      ],
      "metadata": {
        "id": "-6GK5U9JdszX",
        "colab": {
          "base_uri": "https://localhost:8080/"
        },
        "outputId": "6b3e8af0-7ff9-4fdd-a1d8-bcd631abb205"
      },
      "execution_count": null,
      "outputs": [
        {
          "output_type": "stream",
          "name": "stdout",
          "text": [
            "<class 'pandas.core.frame.DataFrame'>\n",
            "Int64Index: 186850 entries, 0 to 20378\n",
            "Data columns (total 6 columns):\n",
            " #   Column            Non-Null Count   Dtype \n",
            "---  ------            --------------   ----- \n",
            " 0   Order ID          186305 non-null  object\n",
            " 1   Product           186305 non-null  object\n",
            " 2   Quantity Ordered  186305 non-null  object\n",
            " 3   Price Each        186305 non-null  object\n",
            " 4   Order Date        186305 non-null  object\n",
            " 5   Purchase Address  186305 non-null  object\n",
            "dtypes: object(6)\n",
            "memory usage: 10.0+ MB\n"
          ]
        }
      ]
    },
    {
      "cell_type": "markdown",
      "source": [
        "**Cleaning the data:**"
      ],
      "metadata": {
        "id": "3Fvz7iBNGSfy"
      }
    },
    {
      "cell_type": "markdown",
      "source": [
        "For my ease of data handling, i am converting the column names into a snakecase format"
      ],
      "metadata": {
        "id": "oIl9T8e6AYjP"
      }
    },
    {
      "cell_type": "code",
      "source": [
        "df.columns = [x.lower() for x in df.columns]"
      ],
      "metadata": {
        "id": "Prg62FI7fCNI"
      },
      "execution_count": null,
      "outputs": []
    },
    {
      "cell_type": "code",
      "source": [
        "df.columns = df.columns.str.replace(\" \",\"_\")"
      ],
      "metadata": {
        "id": "eBWhEbC3hsWH"
      },
      "execution_count": null,
      "outputs": []
    },
    {
      "cell_type": "markdown",
      "source": [
        "Checking whether the data frame has null values"
      ],
      "metadata": {
        "id": "i79kuGiEAnxb"
      }
    },
    {
      "cell_type": "code",
      "source": [
        "df.isna().sum()\n"
      ],
      "metadata": {
        "colab": {
          "base_uri": "https://localhost:8080/"
        },
        "id": "hE_pg21jiISD",
        "outputId": "96080cd7-18b1-429b-beef-2495a6ba4a69"
      },
      "execution_count": null,
      "outputs": [
        {
          "output_type": "execute_result",
          "data": {
            "text/plain": [
              "order_id            545\n",
              "product             545\n",
              "quantity_ordered    545\n",
              "price_each          545\n",
              "order_date          545\n",
              "purchase_address    545\n",
              "dtype: int64"
            ]
          },
          "metadata": {},
          "execution_count": 10
        }
      ]
    },
    {
      "cell_type": "markdown",
      "source": [
        "Dropping the null values"
      ],
      "metadata": {
        "id": "jnti78bkAwxR"
      }
    },
    {
      "cell_type": "code",
      "source": [
        "\n",
        "df = df.dropna()"
      ],
      "metadata": {
        "id": "4XhWiyYalRuo"
      },
      "execution_count": null,
      "outputs": []
    },
    {
      "cell_type": "markdown",
      "source": [
        "confirming whether everything goes well"
      ],
      "metadata": {
        "id": "taLZcWAxA5LV"
      }
    },
    {
      "cell_type": "code",
      "source": [
        " df.isna().sum()"
      ],
      "metadata": {
        "colab": {
          "base_uri": "https://localhost:8080/"
        },
        "id": "vCQE7JOPlc4z",
        "outputId": "bfc376e1-6e57-453f-8e5f-bb26d39f3673"
      },
      "execution_count": null,
      "outputs": [
        {
          "output_type": "execute_result",
          "data": {
            "text/plain": [
              "order_id            0\n",
              "product             0\n",
              "quantity_ordered    0\n",
              "price_each          0\n",
              "order_date          0\n",
              "purchase_address    0\n",
              "dtype: int64"
            ]
          },
          "metadata": {},
          "execution_count": 12
        }
      ]
    },
    {
      "cell_type": "markdown",
      "source": [
        "Dropping the unwanted values which is similar to Null values i would  say it as missing values"
      ],
      "metadata": {
        "id": "5BRHmMzPBPU7"
      }
    },
    {
      "cell_type": "code",
      "source": [
        "drop_cond = df[\"order_id\"] == \"Order ID\"\n",
        "df.drop(index=df[drop_cond].index,inplace=True)"
      ],
      "metadata": {
        "id": "1_z4CdDil43l"
      },
      "execution_count": null,
      "outputs": []
    },
    {
      "cell_type": "markdown",
      "source": [
        "converting the columns to the  desired data format for the effective processing to avoid errors in future."
      ],
      "metadata": {
        "id": "nPH76AgsBdui"
      }
    },
    {
      "cell_type": "code",
      "source": [
        "df[[\"order_id\",\"quantity_ordered\"]] = df[[\"order_id\",\"quantity_ordered\"]].astype(int)"
      ],
      "metadata": {
        "id": "Cmc-QK9gBUCb"
      },
      "execution_count": null,
      "outputs": []
    },
    {
      "cell_type": "code",
      "source": [
        "df[\"price_each\"] = df[\"price_each\"].astype(float)"
      ],
      "metadata": {
        "id": "8RWj7jfmElSs"
      },
      "execution_count": null,
      "outputs": []
    },
    {
      "cell_type": "code",
      "source": [
        "df[\"order_date\"]= pd.to_datetime(df[\"order_date\"])           "
      ],
      "metadata": {
        "id": "NtkZAkpQDooP"
      },
      "execution_count": null,
      "outputs": []
    },
    {
      "cell_type": "code",
      "source": [
        "df[\"order_date\"]"
      ],
      "metadata": {
        "colab": {
          "base_uri": "https://localhost:8080/"
        },
        "id": "lG0OIvm4H0N2",
        "outputId": "80b4f610-5ab7-45c2-e9a0-ea366822461a"
      },
      "execution_count": null,
      "outputs": [
        {
          "output_type": "execute_result",
          "data": {
            "text/plain": [
              "0       2019-04-19 08:46:00\n",
              "2       2019-04-07 22:30:00\n",
              "3       2019-04-12 14:38:00\n",
              "4       2019-04-12 14:38:00\n",
              "5       2019-04-30 09:27:00\n",
              "                ...        \n",
              "20374   2019-10-12 04:32:00\n",
              "20375   2019-10-28 22:00:00\n",
              "20376   2019-10-09 20:58:00\n",
              "20377   2019-10-31 17:21:00\n",
              "20378   2019-10-13 11:20:00\n",
              "Name: order_date, Length: 182735, dtype: datetime64[ns]"
            ]
          },
          "metadata": {},
          "execution_count": 17
        }
      ]
    },
    {
      "cell_type": "markdown",
      "source": [
        "**Processing the data:**"
      ],
      "metadata": {
        "id": "VDRRJLXXGcni"
      }
    },
    {
      "cell_type": "markdown",
      "source": [
        "\n",
        "\n",
        "1.    In order to know the sales by month i am creating the month column\n",
        "\n",
        "\n",
        "  \n",
        "\n",
        "\n",
        "\n",
        " \n",
        "\n",
        "\n",
        " \n",
        "\n",
        "\n",
        " \n"
      ],
      "metadata": {
        "id": "j_Warl2OCCuP"
      }
    },
    {
      "cell_type": "code",
      "source": [
        "df[\"month\"] = df[\"order_date\"].dt.month"
      ],
      "metadata": {
        "id": "1QJiYdHXJlHf"
      },
      "execution_count": null,
      "outputs": []
    },
    {
      "cell_type": "markdown",
      "source": [
        "creating the total price column for knowing the sales"
      ],
      "metadata": {
        "id": "lOo4hIkdELE2"
      }
    },
    {
      "cell_type": "code",
      "source": [
        "df[\"total_price\"] = df[\"quantity_ordered\"] * df[\"price_each\"]"
      ],
      "metadata": {
        "id": "NEO30i2RKozs"
      },
      "execution_count": null,
      "outputs": []
    },
    {
      "cell_type": "code",
      "source": [
        "df.head()"
      ],
      "metadata": {
        "colab": {
          "base_uri": "https://localhost:8080/",
          "height": 206
        },
        "id": "AVzNl18NUdeK",
        "outputId": "cf50101f-e7ca-4bd3-a5e2-4eaafaf025ae"
      },
      "execution_count": null,
      "outputs": [
        {
          "output_type": "execute_result",
          "data": {
            "text/plain": [
              "   order_id                     product  quantity_ordered  price_each  \\\n",
              "0    176558        USB-C Charging Cable                 2       11.95   \n",
              "2    176559  Bose SoundSport Headphones                 1       99.99   \n",
              "3    176560                Google Phone                 1      600.00   \n",
              "4    176560            Wired Headphones                 1       11.99   \n",
              "5    176561            Wired Headphones                 1       11.99   \n",
              "\n",
              "           order_date                      purchase_address  month  \\\n",
              "0 2019-04-19 08:46:00          917 1st St, Dallas, TX 75001      4   \n",
              "2 2019-04-07 22:30:00     682 Chestnut St, Boston, MA 02215      4   \n",
              "3 2019-04-12 14:38:00  669 Spruce St, Los Angeles, CA 90001      4   \n",
              "4 2019-04-12 14:38:00  669 Spruce St, Los Angeles, CA 90001      4   \n",
              "5 2019-04-30 09:27:00     333 8th St, Los Angeles, CA 90001      4   \n",
              "\n",
              "   total_price  \n",
              "0        23.90  \n",
              "2        99.99  \n",
              "3       600.00  \n",
              "4        11.99  \n",
              "5        11.99  "
            ],
            "text/html": [
              "\n",
              "  <div id=\"df-810ac9e4-4de6-457a-871a-98dcd35caab1\">\n",
              "    <div class=\"colab-df-container\">\n",
              "      <div>\n",
              "<style scoped>\n",
              "    .dataframe tbody tr th:only-of-type {\n",
              "        vertical-align: middle;\n",
              "    }\n",
              "\n",
              "    .dataframe tbody tr th {\n",
              "        vertical-align: top;\n",
              "    }\n",
              "\n",
              "    .dataframe thead th {\n",
              "        text-align: right;\n",
              "    }\n",
              "</style>\n",
              "<table border=\"1\" class=\"dataframe\">\n",
              "  <thead>\n",
              "    <tr style=\"text-align: right;\">\n",
              "      <th></th>\n",
              "      <th>order_id</th>\n",
              "      <th>product</th>\n",
              "      <th>quantity_ordered</th>\n",
              "      <th>price_each</th>\n",
              "      <th>order_date</th>\n",
              "      <th>purchase_address</th>\n",
              "      <th>month</th>\n",
              "      <th>total_price</th>\n",
              "    </tr>\n",
              "  </thead>\n",
              "  <tbody>\n",
              "    <tr>\n",
              "      <th>0</th>\n",
              "      <td>176558</td>\n",
              "      <td>USB-C Charging Cable</td>\n",
              "      <td>2</td>\n",
              "      <td>11.95</td>\n",
              "      <td>2019-04-19 08:46:00</td>\n",
              "      <td>917 1st St, Dallas, TX 75001</td>\n",
              "      <td>4</td>\n",
              "      <td>23.90</td>\n",
              "    </tr>\n",
              "    <tr>\n",
              "      <th>2</th>\n",
              "      <td>176559</td>\n",
              "      <td>Bose SoundSport Headphones</td>\n",
              "      <td>1</td>\n",
              "      <td>99.99</td>\n",
              "      <td>2019-04-07 22:30:00</td>\n",
              "      <td>682 Chestnut St, Boston, MA 02215</td>\n",
              "      <td>4</td>\n",
              "      <td>99.99</td>\n",
              "    </tr>\n",
              "    <tr>\n",
              "      <th>3</th>\n",
              "      <td>176560</td>\n",
              "      <td>Google Phone</td>\n",
              "      <td>1</td>\n",
              "      <td>600.00</td>\n",
              "      <td>2019-04-12 14:38:00</td>\n",
              "      <td>669 Spruce St, Los Angeles, CA 90001</td>\n",
              "      <td>4</td>\n",
              "      <td>600.00</td>\n",
              "    </tr>\n",
              "    <tr>\n",
              "      <th>4</th>\n",
              "      <td>176560</td>\n",
              "      <td>Wired Headphones</td>\n",
              "      <td>1</td>\n",
              "      <td>11.99</td>\n",
              "      <td>2019-04-12 14:38:00</td>\n",
              "      <td>669 Spruce St, Los Angeles, CA 90001</td>\n",
              "      <td>4</td>\n",
              "      <td>11.99</td>\n",
              "    </tr>\n",
              "    <tr>\n",
              "      <th>5</th>\n",
              "      <td>176561</td>\n",
              "      <td>Wired Headphones</td>\n",
              "      <td>1</td>\n",
              "      <td>11.99</td>\n",
              "      <td>2019-04-30 09:27:00</td>\n",
              "      <td>333 8th St, Los Angeles, CA 90001</td>\n",
              "      <td>4</td>\n",
              "      <td>11.99</td>\n",
              "    </tr>\n",
              "  </tbody>\n",
              "</table>\n",
              "</div>\n",
              "      <button class=\"colab-df-convert\" onclick=\"convertToInteractive('df-810ac9e4-4de6-457a-871a-98dcd35caab1')\"\n",
              "              title=\"Convert this dataframe to an interactive table.\"\n",
              "              style=\"display:none;\">\n",
              "        \n",
              "  <svg xmlns=\"http://www.w3.org/2000/svg\" height=\"24px\"viewBox=\"0 0 24 24\"\n",
              "       width=\"24px\">\n",
              "    <path d=\"M0 0h24v24H0V0z\" fill=\"none\"/>\n",
              "    <path d=\"M18.56 5.44l.94 2.06.94-2.06 2.06-.94-2.06-.94-.94-2.06-.94 2.06-2.06.94zm-11 1L8.5 8.5l.94-2.06 2.06-.94-2.06-.94L8.5 2.5l-.94 2.06-2.06.94zm10 10l.94 2.06.94-2.06 2.06-.94-2.06-.94-.94-2.06-.94 2.06-2.06.94z\"/><path d=\"M17.41 7.96l-1.37-1.37c-.4-.4-.92-.59-1.43-.59-.52 0-1.04.2-1.43.59L10.3 9.45l-7.72 7.72c-.78.78-.78 2.05 0 2.83L4 21.41c.39.39.9.59 1.41.59.51 0 1.02-.2 1.41-.59l7.78-7.78 2.81-2.81c.8-.78.8-2.07 0-2.86zM5.41 20L4 18.59l7.72-7.72 1.47 1.35L5.41 20z\"/>\n",
              "  </svg>\n",
              "      </button>\n",
              "      \n",
              "  <style>\n",
              "    .colab-df-container {\n",
              "      display:flex;\n",
              "      flex-wrap:wrap;\n",
              "      gap: 12px;\n",
              "    }\n",
              "\n",
              "    .colab-df-convert {\n",
              "      background-color: #E8F0FE;\n",
              "      border: none;\n",
              "      border-radius: 50%;\n",
              "      cursor: pointer;\n",
              "      display: none;\n",
              "      fill: #1967D2;\n",
              "      height: 32px;\n",
              "      padding: 0 0 0 0;\n",
              "      width: 32px;\n",
              "    }\n",
              "\n",
              "    .colab-df-convert:hover {\n",
              "      background-color: #E2EBFA;\n",
              "      box-shadow: 0px 1px 2px rgba(60, 64, 67, 0.3), 0px 1px 3px 1px rgba(60, 64, 67, 0.15);\n",
              "      fill: #174EA6;\n",
              "    }\n",
              "\n",
              "    [theme=dark] .colab-df-convert {\n",
              "      background-color: #3B4455;\n",
              "      fill: #D2E3FC;\n",
              "    }\n",
              "\n",
              "    [theme=dark] .colab-df-convert:hover {\n",
              "      background-color: #434B5C;\n",
              "      box-shadow: 0px 1px 3px 1px rgba(0, 0, 0, 0.15);\n",
              "      filter: drop-shadow(0px 1px 2px rgba(0, 0, 0, 0.3));\n",
              "      fill: #FFFFFF;\n",
              "    }\n",
              "  </style>\n",
              "\n",
              "      <script>\n",
              "        const buttonEl =\n",
              "          document.querySelector('#df-810ac9e4-4de6-457a-871a-98dcd35caab1 button.colab-df-convert');\n",
              "        buttonEl.style.display =\n",
              "          google.colab.kernel.accessAllowed ? 'block' : 'none';\n",
              "\n",
              "        async function convertToInteractive(key) {\n",
              "          const element = document.querySelector('#df-810ac9e4-4de6-457a-871a-98dcd35caab1');\n",
              "          const dataTable =\n",
              "            await google.colab.kernel.invokeFunction('convertToInteractive',\n",
              "                                                     [key], {});\n",
              "          if (!dataTable) return;\n",
              "\n",
              "          const docLinkHtml = 'Like what you see? Visit the ' +\n",
              "            '<a target=\"_blank\" href=https://colab.research.google.com/notebooks/data_table.ipynb>data table notebook</a>'\n",
              "            + ' to learn more about interactive tables.';\n",
              "          element.innerHTML = '';\n",
              "          dataTable['output_type'] = 'display_data';\n",
              "          await google.colab.output.renderOutput(dataTable, element);\n",
              "          const docLink = document.createElement('div');\n",
              "          docLink.innerHTML = docLinkHtml;\n",
              "          element.appendChild(docLink);\n",
              "        }\n",
              "      </script>\n",
              "    </div>\n",
              "  </div>\n",
              "  "
            ]
          },
          "metadata": {},
          "execution_count": 20
        }
      ]
    },
    {
      "cell_type": "markdown",
      "source": [
        " 2. Extracting city and state code\n"
      ],
      "metadata": {
        "id": "yfFFb6E2USdc"
      }
    },
    {
      "cell_type": "code",
      "source": [
        "df[\"city\"] = df[\"purchase_address\"].apply(lambda x : x.split(',')[1] )  "
      ],
      "metadata": {
        "id": "BoFPFZtaUaG6"
      },
      "execution_count": null,
      "outputs": []
    },
    {
      "cell_type": "code",
      "source": [
        "df[\"state\"] = df[\"purchase_address\"].apply(lambda x : x.split(\",\")[2].split(\" \")[1])"
      ],
      "metadata": {
        "id": "8W8M0MCgV1px"
      },
      "execution_count": null,
      "outputs": []
    },
    {
      "cell_type": "code",
      "source": [
        "df[\"state_city\"] = df[\"city\"] + \"(\" +df[\"state\"] +\")\""
      ],
      "metadata": {
        "id": "GQeuKMPwZL2c"
      },
      "execution_count": null,
      "outputs": []
    },
    {
      "cell_type": "code",
      "source": [
        "df.drop(columns = [\"state\",\"city\"],inplace=True)"
      ],
      "metadata": {
        "id": "JnY94oUhs23O"
      },
      "execution_count": null,
      "outputs": []
    },
    {
      "cell_type": "markdown",
      "source": [
        "  3. Extracting hour and weekday from datetime:"
      ],
      "metadata": {
        "id": "4Nmeps9cICrD"
      }
    },
    {
      "cell_type": "code",
      "source": [
        "df[\"hour\"] = df[\"order_date\"].dt.hour"
      ],
      "metadata": {
        "id": "sKCfDaQjIHG8"
      },
      "execution_count": null,
      "outputs": []
    },
    {
      "cell_type": "code",
      "source": [
        "df[\"day\"] = df[\"order_date\"].dt.day_name()"
      ],
      "metadata": {
        "id": "k2reJshONVQY"
      },
      "execution_count": null,
      "outputs": []
    },
    {
      "cell_type": "code",
      "source": [
        "df.head()"
      ],
      "metadata": {
        "id": "EYho0GSAIcAb",
        "colab": {
          "base_uri": "https://localhost:8080/",
          "height": 206
        },
        "outputId": "7582fb93-296e-4d85-c36f-548153ce280f"
      },
      "execution_count": null,
      "outputs": [
        {
          "output_type": "execute_result",
          "data": {
            "text/plain": [
              "   order_id                     product  quantity_ordered  price_each  \\\n",
              "0    176558        USB-C Charging Cable                 2       11.95   \n",
              "2    176559  Bose SoundSport Headphones                 1       99.99   \n",
              "3    176560                Google Phone                 1      600.00   \n",
              "4    176560            Wired Headphones                 1       11.99   \n",
              "5    176561            Wired Headphones                 1       11.99   \n",
              "\n",
              "           order_date                      purchase_address  month  \\\n",
              "0 2019-04-19 08:46:00          917 1st St, Dallas, TX 75001      4   \n",
              "2 2019-04-07 22:30:00     682 Chestnut St, Boston, MA 02215      4   \n",
              "3 2019-04-12 14:38:00  669 Spruce St, Los Angeles, CA 90001      4   \n",
              "4 2019-04-12 14:38:00  669 Spruce St, Los Angeles, CA 90001      4   \n",
              "5 2019-04-30 09:27:00     333 8th St, Los Angeles, CA 90001      4   \n",
              "\n",
              "   total_price        state_city  hour      day  \n",
              "0        23.90        Dallas(TX)     8   Friday  \n",
              "2        99.99        Boston(MA)    22   Sunday  \n",
              "3       600.00   Los Angeles(CA)    14   Friday  \n",
              "4        11.99   Los Angeles(CA)    14   Friday  \n",
              "5        11.99   Los Angeles(CA)     9  Tuesday  "
            ],
            "text/html": [
              "\n",
              "  <div id=\"df-c7622ac9-b380-4353-b33d-ca967d984491\">\n",
              "    <div class=\"colab-df-container\">\n",
              "      <div>\n",
              "<style scoped>\n",
              "    .dataframe tbody tr th:only-of-type {\n",
              "        vertical-align: middle;\n",
              "    }\n",
              "\n",
              "    .dataframe tbody tr th {\n",
              "        vertical-align: top;\n",
              "    }\n",
              "\n",
              "    .dataframe thead th {\n",
              "        text-align: right;\n",
              "    }\n",
              "</style>\n",
              "<table border=\"1\" class=\"dataframe\">\n",
              "  <thead>\n",
              "    <tr style=\"text-align: right;\">\n",
              "      <th></th>\n",
              "      <th>order_id</th>\n",
              "      <th>product</th>\n",
              "      <th>quantity_ordered</th>\n",
              "      <th>price_each</th>\n",
              "      <th>order_date</th>\n",
              "      <th>purchase_address</th>\n",
              "      <th>month</th>\n",
              "      <th>total_price</th>\n",
              "      <th>state_city</th>\n",
              "      <th>hour</th>\n",
              "      <th>day</th>\n",
              "    </tr>\n",
              "  </thead>\n",
              "  <tbody>\n",
              "    <tr>\n",
              "      <th>0</th>\n",
              "      <td>176558</td>\n",
              "      <td>USB-C Charging Cable</td>\n",
              "      <td>2</td>\n",
              "      <td>11.95</td>\n",
              "      <td>2019-04-19 08:46:00</td>\n",
              "      <td>917 1st St, Dallas, TX 75001</td>\n",
              "      <td>4</td>\n",
              "      <td>23.90</td>\n",
              "      <td>Dallas(TX)</td>\n",
              "      <td>8</td>\n",
              "      <td>Friday</td>\n",
              "    </tr>\n",
              "    <tr>\n",
              "      <th>2</th>\n",
              "      <td>176559</td>\n",
              "      <td>Bose SoundSport Headphones</td>\n",
              "      <td>1</td>\n",
              "      <td>99.99</td>\n",
              "      <td>2019-04-07 22:30:00</td>\n",
              "      <td>682 Chestnut St, Boston, MA 02215</td>\n",
              "      <td>4</td>\n",
              "      <td>99.99</td>\n",
              "      <td>Boston(MA)</td>\n",
              "      <td>22</td>\n",
              "      <td>Sunday</td>\n",
              "    </tr>\n",
              "    <tr>\n",
              "      <th>3</th>\n",
              "      <td>176560</td>\n",
              "      <td>Google Phone</td>\n",
              "      <td>1</td>\n",
              "      <td>600.00</td>\n",
              "      <td>2019-04-12 14:38:00</td>\n",
              "      <td>669 Spruce St, Los Angeles, CA 90001</td>\n",
              "      <td>4</td>\n",
              "      <td>600.00</td>\n",
              "      <td>Los Angeles(CA)</td>\n",
              "      <td>14</td>\n",
              "      <td>Friday</td>\n",
              "    </tr>\n",
              "    <tr>\n",
              "      <th>4</th>\n",
              "      <td>176560</td>\n",
              "      <td>Wired Headphones</td>\n",
              "      <td>1</td>\n",
              "      <td>11.99</td>\n",
              "      <td>2019-04-12 14:38:00</td>\n",
              "      <td>669 Spruce St, Los Angeles, CA 90001</td>\n",
              "      <td>4</td>\n",
              "      <td>11.99</td>\n",
              "      <td>Los Angeles(CA)</td>\n",
              "      <td>14</td>\n",
              "      <td>Friday</td>\n",
              "    </tr>\n",
              "    <tr>\n",
              "      <th>5</th>\n",
              "      <td>176561</td>\n",
              "      <td>Wired Headphones</td>\n",
              "      <td>1</td>\n",
              "      <td>11.99</td>\n",
              "      <td>2019-04-30 09:27:00</td>\n",
              "      <td>333 8th St, Los Angeles, CA 90001</td>\n",
              "      <td>4</td>\n",
              "      <td>11.99</td>\n",
              "      <td>Los Angeles(CA)</td>\n",
              "      <td>9</td>\n",
              "      <td>Tuesday</td>\n",
              "    </tr>\n",
              "  </tbody>\n",
              "</table>\n",
              "</div>\n",
              "      <button class=\"colab-df-convert\" onclick=\"convertToInteractive('df-c7622ac9-b380-4353-b33d-ca967d984491')\"\n",
              "              title=\"Convert this dataframe to an interactive table.\"\n",
              "              style=\"display:none;\">\n",
              "        \n",
              "  <svg xmlns=\"http://www.w3.org/2000/svg\" height=\"24px\"viewBox=\"0 0 24 24\"\n",
              "       width=\"24px\">\n",
              "    <path d=\"M0 0h24v24H0V0z\" fill=\"none\"/>\n",
              "    <path d=\"M18.56 5.44l.94 2.06.94-2.06 2.06-.94-2.06-.94-.94-2.06-.94 2.06-2.06.94zm-11 1L8.5 8.5l.94-2.06 2.06-.94-2.06-.94L8.5 2.5l-.94 2.06-2.06.94zm10 10l.94 2.06.94-2.06 2.06-.94-2.06-.94-.94-2.06-.94 2.06-2.06.94z\"/><path d=\"M17.41 7.96l-1.37-1.37c-.4-.4-.92-.59-1.43-.59-.52 0-1.04.2-1.43.59L10.3 9.45l-7.72 7.72c-.78.78-.78 2.05 0 2.83L4 21.41c.39.39.9.59 1.41.59.51 0 1.02-.2 1.41-.59l7.78-7.78 2.81-2.81c.8-.78.8-2.07 0-2.86zM5.41 20L4 18.59l7.72-7.72 1.47 1.35L5.41 20z\"/>\n",
              "  </svg>\n",
              "      </button>\n",
              "      \n",
              "  <style>\n",
              "    .colab-df-container {\n",
              "      display:flex;\n",
              "      flex-wrap:wrap;\n",
              "      gap: 12px;\n",
              "    }\n",
              "\n",
              "    .colab-df-convert {\n",
              "      background-color: #E8F0FE;\n",
              "      border: none;\n",
              "      border-radius: 50%;\n",
              "      cursor: pointer;\n",
              "      display: none;\n",
              "      fill: #1967D2;\n",
              "      height: 32px;\n",
              "      padding: 0 0 0 0;\n",
              "      width: 32px;\n",
              "    }\n",
              "\n",
              "    .colab-df-convert:hover {\n",
              "      background-color: #E2EBFA;\n",
              "      box-shadow: 0px 1px 2px rgba(60, 64, 67, 0.3), 0px 1px 3px 1px rgba(60, 64, 67, 0.15);\n",
              "      fill: #174EA6;\n",
              "    }\n",
              "\n",
              "    [theme=dark] .colab-df-convert {\n",
              "      background-color: #3B4455;\n",
              "      fill: #D2E3FC;\n",
              "    }\n",
              "\n",
              "    [theme=dark] .colab-df-convert:hover {\n",
              "      background-color: #434B5C;\n",
              "      box-shadow: 0px 1px 3px 1px rgba(0, 0, 0, 0.15);\n",
              "      filter: drop-shadow(0px 1px 2px rgba(0, 0, 0, 0.3));\n",
              "      fill: #FFFFFF;\n",
              "    }\n",
              "  </style>\n",
              "\n",
              "      <script>\n",
              "        const buttonEl =\n",
              "          document.querySelector('#df-c7622ac9-b380-4353-b33d-ca967d984491 button.colab-df-convert');\n",
              "        buttonEl.style.display =\n",
              "          google.colab.kernel.accessAllowed ? 'block' : 'none';\n",
              "\n",
              "        async function convertToInteractive(key) {\n",
              "          const element = document.querySelector('#df-c7622ac9-b380-4353-b33d-ca967d984491');\n",
              "          const dataTable =\n",
              "            await google.colab.kernel.invokeFunction('convertToInteractive',\n",
              "                                                     [key], {});\n",
              "          if (!dataTable) return;\n",
              "\n",
              "          const docLinkHtml = 'Like what you see? Visit the ' +\n",
              "            '<a target=\"_blank\" href=https://colab.research.google.com/notebooks/data_table.ipynb>data table notebook</a>'\n",
              "            + ' to learn more about interactive tables.';\n",
              "          element.innerHTML = '';\n",
              "          dataTable['output_type'] = 'display_data';\n",
              "          await google.colab.output.renderOutput(dataTable, element);\n",
              "          const docLink = document.createElement('div');\n",
              "          docLink.innerHTML = docLinkHtml;\n",
              "          element.appendChild(docLink);\n",
              "        }\n",
              "      </script>\n",
              "    </div>\n",
              "  </div>\n",
              "  "
            ]
          },
          "metadata": {},
          "execution_count": 27
        }
      ]
    },
    {
      "cell_type": "markdown",
      "source": [
        "### **ANALYSE AND VISUALIZATION:**  \n",
        "\n",
        "\n",
        "\n",
        "\n",
        "\n",
        "\n",
        "\n",
        " \n",
        "\n"
      ],
      "metadata": {
        "id": "mIqthBUfHL1m"
      }
    },
    {
      "cell_type": "markdown",
      "source": [
        "#### **1) (a) Total sales by month:**"
      ],
      "metadata": {
        "id": "AX8okVl8Fwez"
      }
    },
    {
      "cell_type": "code",
      "source": [
        "monthly_sales = df.groupby(\"month\").sum()\n",
        "monthly_sales.head()"
      ],
      "metadata": {
        "colab": {
          "base_uri": "https://localhost:8080/",
          "height": 237
        },
        "id": "Nih2ABx7JRp1",
        "outputId": "bb8de22a-8b6b-4e3f-da88-d0d6666f31c8"
      },
      "execution_count": null,
      "outputs": [
        {
          "output_type": "execute_result",
          "data": {
            "text/plain": [
              "         order_id  quantity_ordered  price_each  total_price    hour\n",
              "month                                                               \n",
              "1      1391148846             10670  1776155.79   1786511.29  136503\n",
              "2      1832181724             13162  2145208.87   2158127.48  169098\n",
              "3      2520234917             16697  2740393.12   2755969.40  215186\n",
              "4      3333217539             20226  3313522.35   3336376.42  258006\n",
              "5      3289290354             18344  3084756.09   3101881.04  234770"
            ],
            "text/html": [
              "\n",
              "  <div id=\"df-27d2d771-bff2-48fa-ad9a-d8ecf7159a35\">\n",
              "    <div class=\"colab-df-container\">\n",
              "      <div>\n",
              "<style scoped>\n",
              "    .dataframe tbody tr th:only-of-type {\n",
              "        vertical-align: middle;\n",
              "    }\n",
              "\n",
              "    .dataframe tbody tr th {\n",
              "        vertical-align: top;\n",
              "    }\n",
              "\n",
              "    .dataframe thead th {\n",
              "        text-align: right;\n",
              "    }\n",
              "</style>\n",
              "<table border=\"1\" class=\"dataframe\">\n",
              "  <thead>\n",
              "    <tr style=\"text-align: right;\">\n",
              "      <th></th>\n",
              "      <th>order_id</th>\n",
              "      <th>quantity_ordered</th>\n",
              "      <th>price_each</th>\n",
              "      <th>total_price</th>\n",
              "      <th>hour</th>\n",
              "    </tr>\n",
              "    <tr>\n",
              "      <th>month</th>\n",
              "      <th></th>\n",
              "      <th></th>\n",
              "      <th></th>\n",
              "      <th></th>\n",
              "      <th></th>\n",
              "    </tr>\n",
              "  </thead>\n",
              "  <tbody>\n",
              "    <tr>\n",
              "      <th>1</th>\n",
              "      <td>1391148846</td>\n",
              "      <td>10670</td>\n",
              "      <td>1776155.79</td>\n",
              "      <td>1786511.29</td>\n",
              "      <td>136503</td>\n",
              "    </tr>\n",
              "    <tr>\n",
              "      <th>2</th>\n",
              "      <td>1832181724</td>\n",
              "      <td>13162</td>\n",
              "      <td>2145208.87</td>\n",
              "      <td>2158127.48</td>\n",
              "      <td>169098</td>\n",
              "    </tr>\n",
              "    <tr>\n",
              "      <th>3</th>\n",
              "      <td>2520234917</td>\n",
              "      <td>16697</td>\n",
              "      <td>2740393.12</td>\n",
              "      <td>2755969.40</td>\n",
              "      <td>215186</td>\n",
              "    </tr>\n",
              "    <tr>\n",
              "      <th>4</th>\n",
              "      <td>3333217539</td>\n",
              "      <td>20226</td>\n",
              "      <td>3313522.35</td>\n",
              "      <td>3336376.42</td>\n",
              "      <td>258006</td>\n",
              "    </tr>\n",
              "    <tr>\n",
              "      <th>5</th>\n",
              "      <td>3289290354</td>\n",
              "      <td>18344</td>\n",
              "      <td>3084756.09</td>\n",
              "      <td>3101881.04</td>\n",
              "      <td>234770</td>\n",
              "    </tr>\n",
              "  </tbody>\n",
              "</table>\n",
              "</div>\n",
              "      <button class=\"colab-df-convert\" onclick=\"convertToInteractive('df-27d2d771-bff2-48fa-ad9a-d8ecf7159a35')\"\n",
              "              title=\"Convert this dataframe to an interactive table.\"\n",
              "              style=\"display:none;\">\n",
              "        \n",
              "  <svg xmlns=\"http://www.w3.org/2000/svg\" height=\"24px\"viewBox=\"0 0 24 24\"\n",
              "       width=\"24px\">\n",
              "    <path d=\"M0 0h24v24H0V0z\" fill=\"none\"/>\n",
              "    <path d=\"M18.56 5.44l.94 2.06.94-2.06 2.06-.94-2.06-.94-.94-2.06-.94 2.06-2.06.94zm-11 1L8.5 8.5l.94-2.06 2.06-.94-2.06-.94L8.5 2.5l-.94 2.06-2.06.94zm10 10l.94 2.06.94-2.06 2.06-.94-2.06-.94-.94-2.06-.94 2.06-2.06.94z\"/><path d=\"M17.41 7.96l-1.37-1.37c-.4-.4-.92-.59-1.43-.59-.52 0-1.04.2-1.43.59L10.3 9.45l-7.72 7.72c-.78.78-.78 2.05 0 2.83L4 21.41c.39.39.9.59 1.41.59.51 0 1.02-.2 1.41-.59l7.78-7.78 2.81-2.81c.8-.78.8-2.07 0-2.86zM5.41 20L4 18.59l7.72-7.72 1.47 1.35L5.41 20z\"/>\n",
              "  </svg>\n",
              "      </button>\n",
              "      \n",
              "  <style>\n",
              "    .colab-df-container {\n",
              "      display:flex;\n",
              "      flex-wrap:wrap;\n",
              "      gap: 12px;\n",
              "    }\n",
              "\n",
              "    .colab-df-convert {\n",
              "      background-color: #E8F0FE;\n",
              "      border: none;\n",
              "      border-radius: 50%;\n",
              "      cursor: pointer;\n",
              "      display: none;\n",
              "      fill: #1967D2;\n",
              "      height: 32px;\n",
              "      padding: 0 0 0 0;\n",
              "      width: 32px;\n",
              "    }\n",
              "\n",
              "    .colab-df-convert:hover {\n",
              "      background-color: #E2EBFA;\n",
              "      box-shadow: 0px 1px 2px rgba(60, 64, 67, 0.3), 0px 1px 3px 1px rgba(60, 64, 67, 0.15);\n",
              "      fill: #174EA6;\n",
              "    }\n",
              "\n",
              "    [theme=dark] .colab-df-convert {\n",
              "      background-color: #3B4455;\n",
              "      fill: #D2E3FC;\n",
              "    }\n",
              "\n",
              "    [theme=dark] .colab-df-convert:hover {\n",
              "      background-color: #434B5C;\n",
              "      box-shadow: 0px 1px 3px 1px rgba(0, 0, 0, 0.15);\n",
              "      filter: drop-shadow(0px 1px 2px rgba(0, 0, 0, 0.3));\n",
              "      fill: #FFFFFF;\n",
              "    }\n",
              "  </style>\n",
              "\n",
              "      <script>\n",
              "        const buttonEl =\n",
              "          document.querySelector('#df-27d2d771-bff2-48fa-ad9a-d8ecf7159a35 button.colab-df-convert');\n",
              "        buttonEl.style.display =\n",
              "          google.colab.kernel.accessAllowed ? 'block' : 'none';\n",
              "\n",
              "        async function convertToInteractive(key) {\n",
              "          const element = document.querySelector('#df-27d2d771-bff2-48fa-ad9a-d8ecf7159a35');\n",
              "          const dataTable =\n",
              "            await google.colab.kernel.invokeFunction('convertToInteractive',\n",
              "                                                     [key], {});\n",
              "          if (!dataTable) return;\n",
              "\n",
              "          const docLinkHtml = 'Like what you see? Visit the ' +\n",
              "            '<a target=\"_blank\" href=https://colab.research.google.com/notebooks/data_table.ipynb>data table notebook</a>'\n",
              "            + ' to learn more about interactive tables.';\n",
              "          element.innerHTML = '';\n",
              "          dataTable['output_type'] = 'display_data';\n",
              "          await google.colab.output.renderOutput(dataTable, element);\n",
              "          const docLink = document.createElement('div');\n",
              "          docLink.innerHTML = docLinkHtml;\n",
              "          element.appendChild(docLink);\n",
              "        }\n",
              "      </script>\n",
              "    </div>\n",
              "  </div>\n",
              "  "
            ]
          },
          "metadata": {},
          "execution_count": 28
        }
      ]
    },
    {
      "cell_type": "markdown",
      "source": [
        "using matplotlib's bar function:"
      ],
      "metadata": {
        "id": "tvSkROEo-mLM"
      }
    },
    {
      "cell_type": "code",
      "source": [
        "sns.set_style(\"dark\")\n",
        "plt.figure(figsize=(10,5))\n",
        "plt.bar(monthly_sales.index,monthly_sales[\"total_price\"])\n",
        "plt.ticklabel_format(style = \"plain\")\n",
        "font_1={\"family\":\"serif\",\"color\":\"magenta\",\"fontsize\":16}\n",
        "font_2={\"family\":\"serif\",\"color\":\"tab:green\",\"fontsize\":16}\n",
        "font_3={\"family\":\"sans-serif\",\"color\":\"red\",\"fontsize\":18,\"weight\":\"normal\",\"fontstyle\":\"oblique\"}\n",
        "plt.xticks(monthly_sales.index,weight=\"normal\",fontname=\"sans-serif\",color=\"dodgerblue\",fontsize=12 )\n",
        "plt.yticks(weight=\"normal\",fontname=\"sans-serif\",color=\"dodgerblue\",fontsize=12 )\n",
        "plt.xlabel(\"Months\",fontdict = font_1 )\n",
        "plt.ylabel(\"Total_sales_in_USD\",fontdict = font_2)\n",
        "plt.title(\"Total sales per month in USD\",fontdict = font_3);"
      ],
      "metadata": {
        "colab": {
          "base_uri": "https://localhost:8080/",
          "height": 364
        },
        "id": "VT_ynmXiNLcX",
        "outputId": "61431b92-868f-4530-9431-bb2dd25afd16"
      },
      "execution_count": null,
      "outputs": [
        {
          "output_type": "display_data",
          "data": {
            "text/plain": [
              "<Figure size 720x360 with 1 Axes>"
            ],
            "image/png": "[encoded data removed]"
          },
          "metadata": {}
        }
      ]
    },
    {
      "cell_type": "markdown",
      "source": [
        "using matplotlib's bar function:"
      ],
      "metadata": {
        "id": "HyKaVuj1-Xr8"
      }
    },
    {
      "cell_type": "markdown",
      "source": [
        "#### **1) (b) Average sales by month:**"
      ],
      "metadata": {
        "id": "vKRKVbT4wnAG"
      }
    },
    {
      "cell_type": "code",
      "source": [
        "mean_monthly_sales = df.groupby(\"month\").mean()\n",
        "mean_monthly_sales.head()\n",
        "mean_monthly_sales.rename(columns={\"total_price\":\"mean_price\"},inplace=True)"
      ],
      "metadata": {
        "id": "mzRXuGJfKTjQ"
      },
      "execution_count": null,
      "outputs": []
    },
    {
      "cell_type": "code",
      "source": [
        "sns.set_style(\"dark\")\n",
        "plt.figure(figsize=(10,5))\n",
        "plt.bar(mean_monthly_sales.index,mean_monthly_sales[\"mean_price\"])\n",
        "plt.ticklabel_format(style = \"plain\")\n",
        "font_1={\"family\":\"serif\",\"color\":\"magenta\",\"fontsize\":16}\n",
        "font_2={\"family\":\"serif\",\"color\":\"tab:green\",\"fontsize\":16}\n",
        "font_3={\"family\":\"sans-serif\",\"color\":\"red\",\"fontsize\":18,\"weight\":\"normal\",\"fontstyle\":\"oblique\"}\n",
        "plt.xticks(mean_monthly_sales.index,weight=\"normal\",fontname=\"sans-serif\",color=\"dodgerblue\",fontsize=12 )\n",
        "plt.yticks(weight=\"normal\",fontname=\"sans-serif\",color=\"dodgerblue\",fontsize=12 )\n",
        "plt.xlabel(\"Months\",fontdict = font_1 )\n",
        "plt.ylabel(\"Average_sales_in_USD\",fontdict = font_2)\n",
        "plt.title(\"Average sales per month in USD\",fontdict = font_3);"
      ],
      "metadata": {
        "colab": {
          "base_uri": "https://localhost:8080/",
          "height": 364
        },
        "id": "NuG0M8k7CqYO",
        "outputId": "07fd8532-0ba8-484d-ed38-ab71b5a317c6"
      },
      "execution_count": null,
      "outputs": [
        {
          "output_type": "display_data",
          "data": {
            "text/plain": [
              "<Figure size 720x360 with 1 Axes>"
            ],
            "image/png": "[encoded data removed]"
          },
          "metadata": {}
        }
      ]
    },
    {
      "cell_type": "markdown",
      "source": [
        "#### **2) sales by days of the week:**"
      ],
      "metadata": {
        "id": "fjIqTwTNw3b8"
      }
    },
    {
      "cell_type": "code",
      "source": [
        "days=[\"Monday\",\"Tuesday\",\"Wednesday\",\"Thursday\",\"Friday\",\"Saturday\",\"Sunday\"]\n",
        "sales_by_day = df.groupby(\"day\").sum().reindex(days)\n",
        "sales_by_day.head()"
      ],
      "metadata": {
        "colab": {
          "base_uri": "https://localhost:8080/",
          "height": 237
        },
        "id": "hc14mZWhL4UW",
        "outputId": "2f0e2c83-9ff6-4b0a-97d1-1b2d1cee8e25"
      },
      "execution_count": null,
      "outputs": [
        {
          "output_type": "execute_result",
          "data": {
            "text/plain": [
              "             order_id  quantity_ordered  price_each   month  total_price  \\\n",
              "day                                                                        \n",
              "Monday     6056689085             29366  4761499.62  187213   4793562.83   \n",
              "Tuesday    6173418011             30159  4972908.86  189957   4999099.97   \n",
              "Wednesday  5959752236             29257  4870466.03  180991   4898231.22   \n",
              "Thursday   5981701017             29175  4725075.72  182728   4753750.41   \n",
              "Friday     5943237467             28987  4749047.50  181846   4773941.31   \n",
              "\n",
              "             hour  \n",
              "day                \n",
              "Monday     375410  \n",
              "Tuesday    383716  \n",
              "Wednesday  374096  \n",
              "Thursday   374517  \n",
              "Friday     373311  "
            ],
            "text/html": [
              "\n",
              "  <div id=\"df-5b8fe038-eef4-461a-941a-1fd00bf09336\">\n",
              "    <div class=\"colab-df-container\">\n",
              "      <div>\n",
              "<style scoped>\n",
              "    .dataframe tbody tr th:only-of-type {\n",
              "        vertical-align: middle;\n",
              "    }\n",
              "\n",
              "    .dataframe tbody tr th {\n",
              "        vertical-align: top;\n",
              "    }\n",
              "\n",
              "    .dataframe thead th {\n",
              "        text-align: right;\n",
              "    }\n",
              "</style>\n",
              "<table border=\"1\" class=\"dataframe\">\n",
              "  <thead>\n",
              "    <tr style=\"text-align: right;\">\n",
              "      <th></th>\n",
              "      <th>order_id</th>\n",
              "      <th>quantity_ordered</th>\n",
              "      <th>price_each</th>\n",
              "      <th>month</th>\n",
              "      <th>total_price</th>\n",
              "      <th>hour</th>\n",
              "    </tr>\n",
              "    <tr>\n",
              "      <th>day</th>\n",
              "      <th></th>\n",
              "      <th></th>\n",
              "      <th></th>\n",
              "      <th></th>\n",
              "      <th></th>\n",
              "      <th></th>\n",
              "    </tr>\n",
              "  </thead>\n",
              "  <tbody>\n",
              "    <tr>\n",
              "      <th>Monday</th>\n",
              "      <td>6056689085</td>\n",
              "      <td>29366</td>\n",
              "      <td>4761499.62</td>\n",
              "      <td>187213</td>\n",
              "      <td>4793562.83</td>\n",
              "      <td>375410</td>\n",
              "    </tr>\n",
              "    <tr>\n",
              "      <th>Tuesday</th>\n",
              "      <td>6173418011</td>\n",
              "      <td>30159</td>\n",
              "      <td>4972908.86</td>\n",
              "      <td>189957</td>\n",
              "      <td>4999099.97</td>\n",
              "      <td>383716</td>\n",
              "    </tr>\n",
              "    <tr>\n",
              "      <th>Wednesday</th>\n",
              "      <td>5959752236</td>\n",
              "      <td>29257</td>\n",
              "      <td>4870466.03</td>\n",
              "      <td>180991</td>\n",
              "      <td>4898231.22</td>\n",
              "      <td>374096</td>\n",
              "    </tr>\n",
              "    <tr>\n",
              "      <th>Thursday</th>\n",
              "      <td>5981701017</td>\n",
              "      <td>29175</td>\n",
              "      <td>4725075.72</td>\n",
              "      <td>182728</td>\n",
              "      <td>4753750.41</td>\n",
              "      <td>374517</td>\n",
              "    </tr>\n",
              "    <tr>\n",
              "      <th>Friday</th>\n",
              "      <td>5943237467</td>\n",
              "      <td>28987</td>\n",
              "      <td>4749047.50</td>\n",
              "      <td>181846</td>\n",
              "      <td>4773941.31</td>\n",
              "      <td>373311</td>\n",
              "    </tr>\n",
              "  </tbody>\n",
              "</table>\n",
              "</div>\n",
              "      <button class=\"colab-df-convert\" onclick=\"convertToInteractive('df-5b8fe038-eef4-461a-941a-1fd00bf09336')\"\n",
              "              title=\"Convert this dataframe to an interactive table.\"\n",
              "              style=\"display:none;\">\n",
              "        \n",
              "  <svg xmlns=\"http://www.w3.org/2000/svg\" height=\"24px\"viewBox=\"0 0 24 24\"\n",
              "       width=\"24px\">\n",
              "    <path d=\"M0 0h24v24H0V0z\" fill=\"none\"/>\n",
              "    <path d=\"M18.56 5.44l.94 2.06.94-2.06 2.06-.94-2.06-.94-.94-2.06-.94 2.06-2.06.94zm-11 1L8.5 8.5l.94-2.06 2.06-.94-2.06-.94L8.5 2.5l-.94 2.06-2.06.94zm10 10l.94 2.06.94-2.06 2.06-.94-2.06-.94-.94-2.06-.94 2.06-2.06.94z\"/><path d=\"M17.41 7.96l-1.37-1.37c-.4-.4-.92-.59-1.43-.59-.52 0-1.04.2-1.43.59L10.3 9.45l-7.72 7.72c-.78.78-.78 2.05 0 2.83L4 21.41c.39.39.9.59 1.41.59.51 0 1.02-.2 1.41-.59l7.78-7.78 2.81-2.81c.8-.78.8-2.07 0-2.86zM5.41 20L4 18.59l7.72-7.72 1.47 1.35L5.41 20z\"/>\n",
              "  </svg>\n",
              "      </button>\n",
              "      \n",
              "  <style>\n",
              "    .colab-df-container {\n",
              "      display:flex;\n",
              "      flex-wrap:wrap;\n",
              "      gap: 12px;\n",
              "    }\n",
              "\n",
              "    .colab-df-convert {\n",
              "      background-color: #E8F0FE;\n",
              "      border: none;\n",
              "      border-radius: 50%;\n",
              "      cursor: pointer;\n",
              "      display: none;\n",
              "      fill: #1967D2;\n",
              "      height: 32px;\n",
              "      padding: 0 0 0 0;\n",
              "      width: 32px;\n",
              "    }\n",
              "\n",
              "    .colab-df-convert:hover {\n",
              "      background-color: #E2EBFA;\n",
              "      box-shadow: 0px 1px 2px rgba(60, 64, 67, 0.3), 0px 1px 3px 1px rgba(60, 64, 67, 0.15);\n",
              "      fill: #174EA6;\n",
              "    }\n",
              "\n",
              "    [theme=dark] .colab-df-convert {\n",
              "      background-color: #3B4455;\n",
              "      fill: #D2E3FC;\n",
              "    }\n",
              "\n",
              "    [theme=dark] .colab-df-convert:hover {\n",
              "      background-color: #434B5C;\n",
              "      box-shadow: 0px 1px 3px 1px rgba(0, 0, 0, 0.15);\n",
              "      filter: drop-shadow(0px 1px 2px rgba(0, 0, 0, 0.3));\n",
              "      fill: #FFFFFF;\n",
              "    }\n",
              "  </style>\n",
              "\n",
              "      <script>\n",
              "        const buttonEl =\n",
              "          document.querySelector('#df-5b8fe038-eef4-461a-941a-1fd00bf09336 button.colab-df-convert');\n",
              "        buttonEl.style.display =\n",
              "          google.colab.kernel.accessAllowed ? 'block' : 'none';\n",
              "\n",
              "        async function convertToInteractive(key) {\n",
              "          const element = document.querySelector('#df-5b8fe038-eef4-461a-941a-1fd00bf09336');\n",
              "          const dataTable =\n",
              "            await google.colab.kernel.invokeFunction('convertToInteractive',\n",
              "                                                     [key], {});\n",
              "          if (!dataTable) return;\n",
              "\n",
              "          const docLinkHtml = 'Like what you see? Visit the ' +\n",
              "            '<a target=\"_blank\" href=https://colab.research.google.com/notebooks/data_table.ipynb>data table notebook</a>'\n",
              "            + ' to learn more about interactive tables.';\n",
              "          element.innerHTML = '';\n",
              "          dataTable['output_type'] = 'display_data';\n",
              "          await google.colab.output.renderOutput(dataTable, element);\n",
              "          const docLink = document.createElement('div');\n",
              "          docLink.innerHTML = docLinkHtml;\n",
              "          element.appendChild(docLink);\n",
              "        }\n",
              "      </script>\n",
              "    </div>\n",
              "  </div>\n",
              "  "
            ]
          },
          "metadata": {},
          "execution_count": 32
        }
      ]
    },
    {
      "cell_type": "markdown",
      "source": [
        "using seaborn's barplot function:"
      ],
      "metadata": {
        "id": "FE3cp3nU-9gz"
      }
    },
    {
      "cell_type": "code",
      "source": [
        "plt.figure(figsize=(10,5))\n",
        "sns.barplot(x=sales_by_day.index,y=\"total_price\",data=sales_by_day)\n",
        "plt.ticklabel_format(style = \"plain\",axis=\"y\")\n",
        "plt.xlabel(\"Days_Of_The_Week\",fontdict = font_1)\n",
        "plt.ylabel(\"Total_Sales_In_USD\",fontdict = font_2)\n",
        "plt.title(\"Total Sales By Day Of The Week In USD\",fontdict = font_3)\n",
        "plt.xticks(weight=\"normal\",fontname=\"sans-serif\",color=\"dodgerblue\",fontsize=12 )\n",
        "plt.yticks(weight=\"normal\",fontname=\"sans-serif\",color=\"dodgerblue\",fontsize=12 );"
      ],
      "metadata": {
        "colab": {
          "base_uri": "https://localhost:8080/",
          "height": 364
        },
        "id": "xN6_vEiH0DJI",
        "outputId": "616a4a93-aa75-401f-ff31-4a88dd99f657"
      },
      "execution_count": null,
      "outputs": [
        {
          "output_type": "display_data",
          "data": {
            "text/plain": [
              "<Figure size 720x360 with 1 Axes>"
            ],
            "image/png": "[encoded data removed]"
          },
          "metadata": {}
        }
      ]
    },
    {
      "cell_type": "markdown",
      "source": [
        "#### **3) Sales by cities:**"
      ],
      "metadata": {
        "id": "NEKPfGN2xk-Q"
      }
    },
    {
      "cell_type": "code",
      "source": [
        "city_sales = df.groupby(\"state_city\").sum()\n",
        "city_sales.head()"
      ],
      "metadata": {
        "colab": {
          "base_uri": "https://localhost:8080/",
          "height": 237
        },
        "id": "_I7ELz4vMd2g",
        "outputId": "0856aa3b-3546-4c51-eee5-4eb2c0c86a5f"
      },
      "execution_count": null,
      "outputs": [
        {
          "output_type": "execute_result",
          "data": {
            "text/plain": [
              "                    order_id  quantity_ordered  price_each   month  \\\n",
              "state_city                                                           \n",
              " Atlanta(GA)      3366679952             16304  2726247.35  103160   \n",
              " Austin(TX)       2238557673             10933  1777231.68   68570   \n",
              " Boston(MA)       4517043947             22123  3580075.00  138632   \n",
              " Dallas(TX)       3360280471             16453  2702619.12  102976   \n",
              " Los Angeles(CA)  6698824762             32722  5323915.79  204933   \n",
              "\n",
              "                  total_price    hour  \n",
              "state_city                             \n",
              " Atlanta(GA)       2741642.05  210462  \n",
              " Austin(TX)        1786745.52  139294  \n",
              " Boston(MA)        3604080.86  282781  \n",
              " Dallas(TX)        2717793.72  210879  \n",
              " Los Angeles(CA)   5354039.93  420439  "
            ],
            "text/html": [
              "\n",
              "  <div id=\"df-33baa482-6849-489d-99c5-f8d82bc19564\">\n",
              "    <div class=\"colab-df-container\">\n",
              "      <div>\n",
              "<style scoped>\n",
              "    .dataframe tbody tr th:only-of-type {\n",
              "        vertical-align: middle;\n",
              "    }\n",
              "\n",
              "    .dataframe tbody tr th {\n",
              "        vertical-align: top;\n",
              "    }\n",
              "\n",
              "    .dataframe thead th {\n",
              "        text-align: right;\n",
              "    }\n",
              "</style>\n",
              "<table border=\"1\" class=\"dataframe\">\n",
              "  <thead>\n",
              "    <tr style=\"text-align: right;\">\n",
              "      <th></th>\n",
              "      <th>order_id</th>\n",
              "      <th>quantity_ordered</th>\n",
              "      <th>price_each</th>\n",
              "      <th>month</th>\n",
              "      <th>total_price</th>\n",
              "      <th>hour</th>\n",
              "    </tr>\n",
              "    <tr>\n",
              "      <th>state_city</th>\n",
              "      <th></th>\n",
              "      <th></th>\n",
              "      <th></th>\n",
              "      <th></th>\n",
              "      <th></th>\n",
              "      <th></th>\n",
              "    </tr>\n",
              "  </thead>\n",
              "  <tbody>\n",
              "    <tr>\n",
              "      <th>Atlanta(GA)</th>\n",
              "      <td>3366679952</td>\n",
              "      <td>16304</td>\n",
              "      <td>2726247.35</td>\n",
              "      <td>103160</td>\n",
              "      <td>2741642.05</td>\n",
              "      <td>210462</td>\n",
              "    </tr>\n",
              "    <tr>\n",
              "      <th>Austin(TX)</th>\n",
              "      <td>2238557673</td>\n",
              "      <td>10933</td>\n",
              "      <td>1777231.68</td>\n",
              "      <td>68570</td>\n",
              "      <td>1786745.52</td>\n",
              "      <td>139294</td>\n",
              "    </tr>\n",
              "    <tr>\n",
              "      <th>Boston(MA)</th>\n",
              "      <td>4517043947</td>\n",
              "      <td>22123</td>\n",
              "      <td>3580075.00</td>\n",
              "      <td>138632</td>\n",
              "      <td>3604080.86</td>\n",
              "      <td>282781</td>\n",
              "    </tr>\n",
              "    <tr>\n",
              "      <th>Dallas(TX)</th>\n",
              "      <td>3360280471</td>\n",
              "      <td>16453</td>\n",
              "      <td>2702619.12</td>\n",
              "      <td>102976</td>\n",
              "      <td>2717793.72</td>\n",
              "      <td>210879</td>\n",
              "    </tr>\n",
              "    <tr>\n",
              "      <th>Los Angeles(CA)</th>\n",
              "      <td>6698824762</td>\n",
              "      <td>32722</td>\n",
              "      <td>5323915.79</td>\n",
              "      <td>204933</td>\n",
              "      <td>5354039.93</td>\n",
              "      <td>420439</td>\n",
              "    </tr>\n",
              "  </tbody>\n",
              "</table>\n",
              "</div>\n",
              "      <button class=\"colab-df-convert\" onclick=\"convertToInteractive('df-33baa482-6849-489d-99c5-f8d82bc19564')\"\n",
              "              title=\"Convert this dataframe to an interactive table.\"\n",
              "              style=\"display:none;\">\n",
              "        \n",
              "  <svg xmlns=\"http://www.w3.org/2000/svg\" height=\"24px\"viewBox=\"0 0 24 24\"\n",
              "       width=\"24px\">\n",
              "    <path d=\"M0 0h24v24H0V0z\" fill=\"none\"/>\n",
              "    <path d=\"M18.56 5.44l.94 2.06.94-2.06 2.06-.94-2.06-.94-.94-2.06-.94 2.06-2.06.94zm-11 1L8.5 8.5l.94-2.06 2.06-.94-2.06-.94L8.5 2.5l-.94 2.06-2.06.94zm10 10l.94 2.06.94-2.06 2.06-.94-2.06-.94-.94-2.06-.94 2.06-2.06.94z\"/><path d=\"M17.41 7.96l-1.37-1.37c-.4-.4-.92-.59-1.43-.59-.52 0-1.04.2-1.43.59L10.3 9.45l-7.72 7.72c-.78.78-.78 2.05 0 2.83L4 21.41c.39.39.9.59 1.41.59.51 0 1.02-.2 1.41-.59l7.78-7.78 2.81-2.81c.8-.78.8-2.07 0-2.86zM5.41 20L4 18.59l7.72-7.72 1.47 1.35L5.41 20z\"/>\n",
              "  </svg>\n",
              "      </button>\n",
              "      \n",
              "  <style>\n",
              "    .colab-df-container {\n",
              "      display:flex;\n",
              "      flex-wrap:wrap;\n",
              "      gap: 12px;\n",
              "    }\n",
              "\n",
              "    .colab-df-convert {\n",
              "      background-color: #E8F0FE;\n",
              "      border: none;\n",
              "      border-radius: 50%;\n",
              "      cursor: pointer;\n",
              "      display: none;\n",
              "      fill: #1967D2;\n",
              "      height: 32px;\n",
              "      padding: 0 0 0 0;\n",
              "      width: 32px;\n",
              "    }\n",
              "\n",
              "    .colab-df-convert:hover {\n",
              "      background-color: #E2EBFA;\n",
              "      box-shadow: 0px 1px 2px rgba(60, 64, 67, 0.3), 0px 1px 3px 1px rgba(60, 64, 67, 0.15);\n",
              "      fill: #174EA6;\n",
              "    }\n",
              "\n",
              "    [theme=dark] .colab-df-convert {\n",
              "      background-color: #3B4455;\n",
              "      fill: #D2E3FC;\n",
              "    }\n",
              "\n",
              "    [theme=dark] .colab-df-convert:hover {\n",
              "      background-color: #434B5C;\n",
              "      box-shadow: 0px 1px 3px 1px rgba(0, 0, 0, 0.15);\n",
              "      filter: drop-shadow(0px 1px 2px rgba(0, 0, 0, 0.3));\n",
              "      fill: #FFFFFF;\n",
              "    }\n",
              "  </style>\n",
              "\n",
              "      <script>\n",
              "        const buttonEl =\n",
              "          document.querySelector('#df-33baa482-6849-489d-99c5-f8d82bc19564 button.colab-df-convert');\n",
              "        buttonEl.style.display =\n",
              "          google.colab.kernel.accessAllowed ? 'block' : 'none';\n",
              "\n",
              "        async function convertToInteractive(key) {\n",
              "          const element = document.querySelector('#df-33baa482-6849-489d-99c5-f8d82bc19564');\n",
              "          const dataTable =\n",
              "            await google.colab.kernel.invokeFunction('convertToInteractive',\n",
              "                                                     [key], {});\n",
              "          if (!dataTable) return;\n",
              "\n",
              "          const docLinkHtml = 'Like what you see? Visit the ' +\n",
              "            '<a target=\"_blank\" href=https://colab.research.google.com/notebooks/data_table.ipynb>data table notebook</a>'\n",
              "            + ' to learn more about interactive tables.';\n",
              "          element.innerHTML = '';\n",
              "          dataTable['output_type'] = 'display_data';\n",
              "          await google.colab.output.renderOutput(dataTable, element);\n",
              "          const docLink = document.createElement('div');\n",
              "          docLink.innerHTML = docLinkHtml;\n",
              "          element.appendChild(docLink);\n",
              "        }\n",
              "      </script>\n",
              "    </div>\n",
              "  </div>\n",
              "  "
            ]
          },
          "metadata": {},
          "execution_count": 34
        }
      ]
    },
    {
      "cell_type": "code",
      "source": [
        "plt.figure(figsize=(14,5))\n",
        "plt.bar(city_sales.index,city_sales[\"total_price\"],color=\"tab:orange\")\n",
        "plt.ticklabel_format(style = \"plain\",axis = \"y\")\n",
        "plt.xticks(city_sales.index,rotation = 45,)\n",
        "plt.xlabel(\"Cities\",fontdict = font_1 )\n",
        "plt.ylabel(\"Total_Sales_In_USD\", fontdict = font_2)\n",
        "plt.title(\"Total Sales By Cities In USD\",fontdict = font_3)\n",
        "plt.xticks(weight=\"normal\",fontname=\"sans-serif\",color=\"dodgerblue\",fontsize=12 )\n",
        "plt.yticks(weight=\"normal\",fontname=\"sans-serif\",color=\"dodgerblue\",fontsize=12 );"
      ],
      "metadata": {
        "colab": {
          "base_uri": "https://localhost:8080/",
          "height": 439
        },
        "id": "t6vIcqJuPKsx",
        "outputId": "7b659845-8f50-465b-a81b-1ff1bf8f12d0"
      },
      "execution_count": null,
      "outputs": [
        {
          "output_type": "display_data",
          "data": {
            "text/plain": [
              "<Figure size 1008x360 with 1 Axes>"
            ],
            "image/png": "[encoded data removed]"
          },
          "metadata": {}
        }
      ]
    },
    {
      "cell_type": "markdown",
      "source": [
        "#### **4) Sales by an hour of the day:**"
      ],
      "metadata": {
        "id": "F8jqNelKxv9t"
      }
    },
    {
      "cell_type": "code",
      "source": [
        "hourly_sales_and_order = df.groupby(\"hour\").agg({\"quantity_ordered\":\"sum\",\"total_price\":\"sum\",\"order_id\":\"count\"})"
      ],
      "metadata": {
        "id": "4IVDmjOKO16I"
      },
      "execution_count": null,
      "outputs": []
    },
    {
      "cell_type": "markdown",
      "source": [
        "i used both maplotlib's plot function to draw line over the bar produced by seaborn's barplot function:"
      ],
      "metadata": {
        "id": "-av1w037_Itw"
      }
    },
    {
      "cell_type": "code",
      "source": [
        "plt.figure(figsize=(12,6))\n",
        "sns.set_style(\"darkgrid\")\n",
        "sns.barplot(x=hourly_sales_and_order.index , y = \"total_price\",data=hourly_sales_and_order)\n",
        "plt.plot(hourly_sales_and_order.index,hourly_sales_and_order[\"total_price\"],\"o-r\")\n",
        "plt.xlabel(\"Hours\",fontdict= font_1)\n",
        "plt.ylabel(\"Total_Sales_In_USD\",fontdict= font_2)\n",
        "plt.title(\"Total Sales By Hour\",fontdict= font_3)\n",
        "plt.ticklabel_format(style = \"plain\",axis = \"y\")\n",
        "plt.xticks(weight=\"normal\",fontname=\"sans-serif\",color=\"dodgerblue\",fontsize=12 )\n",
        "plt.yticks(weight=\"normal\",fontname=\"sans-serif\",color=\"dodgerblue\",fontsize=12 );"
      ],
      "metadata": {
        "colab": {
          "base_uri": "https://localhost:8080/",
          "height": 418
        },
        "id": "FsfyFnw4O4fL",
        "outputId": "f48f8f26-b963-4345-b3ed-ab9372ab089f"
      },
      "execution_count": null,
      "outputs": [
        {
          "output_type": "display_data",
          "data": {
            "text/plain": [
              "<Figure size 864x432 with 1 Axes>"
            ],
            "image/png": "[encoded data removed]"
          },
          "metadata": {}
        }
      ]
    },
    {
      "cell_type": "markdown",
      "source": [
        "#### **5) Top 10 Most ordered combo (2 things) together :**"
      ],
      "metadata": {
        "id": "KpKWDQ5Fx-Sw"
      }
    },
    {
      "cell_type": "markdown",
      "source": [
        "By using duplicated method we can see the duplicates together next to next on rows this is just for overview we can also proceed without using the duplicated method"
      ],
      "metadata": {
        "id": "qzcpv_Bnyr7C"
      }
    },
    {
      "cell_type": "code",
      "source": [
        "combo_df = df[df[\"order_id\"].duplicated(keep=False)] \n",
        "combo_df.head()\n",
        "\n"
      ],
      "metadata": {
        "id": "w7XKQUIwTFr6",
        "colab": {
          "base_uri": "https://localhost:8080/",
          "height": 354
        },
        "outputId": "daeba848-bcde-489b-fa06-803adbd916d0"
      },
      "execution_count": null,
      "outputs": [
        {
          "output_type": "execute_result",
          "data": {
            "text/plain": [
              "    order_id                     product  quantity_ordered  price_each  \\\n",
              "3     176560                Google Phone                 1      600.00   \n",
              "4     176560            Wired Headphones                 1       11.99   \n",
              "18    176574                Google Phone                 1      600.00   \n",
              "19    176574        USB-C Charging Cable                 1       11.95   \n",
              "30    176585  Bose SoundSport Headphones                 1       99.99   \n",
              "\n",
              "            order_date                      purchase_address  month  \\\n",
              "3  2019-04-12 14:38:00  669 Spruce St, Los Angeles, CA 90001      4   \n",
              "4  2019-04-12 14:38:00  669 Spruce St, Los Angeles, CA 90001      4   \n",
              "18 2019-04-03 19:42:00     20 Hill St, Los Angeles, CA 90001      4   \n",
              "19 2019-04-03 19:42:00     20 Hill St, Los Angeles, CA 90001      4   \n",
              "30 2019-04-07 11:31:00     823 Highland St, Boston, MA 02215      4   \n",
              "\n",
              "    total_price        state_city  hour        day  \\\n",
              "3        600.00   Los Angeles(CA)    14     Friday   \n",
              "4         11.99   Los Angeles(CA)    14     Friday   \n",
              "18       600.00   Los Angeles(CA)    19  Wednesday   \n",
              "19        11.95   Los Angeles(CA)    19  Wednesday   \n",
              "30        99.99        Boston(MA)    11     Sunday   \n",
              "\n",
              "                                               combos  \n",
              "3                       Google Phone,Wired Headphones  \n",
              "4                       Google Phone,Wired Headphones  \n",
              "18                  Google Phone,USB-C Charging Cable  \n",
              "19                  Google Phone,USB-C Charging Cable  \n",
              "30  Bose SoundSport Headphones,Bose SoundSport Hea...  "
            ],
            "text/html": [
              "\n",
              "  <div id=\"df-94082a2a-63bb-4bf6-bb8a-615fe74254d9\">\n",
              "    <div class=\"colab-df-container\">\n",
              "      <div>\n",
              "<style scoped>\n",
              "    .dataframe tbody tr th:only-of-type {\n",
              "        vertical-align: middle;\n",
              "    }\n",
              "\n",
              "    .dataframe tbody tr th {\n",
              "        vertical-align: top;\n",
              "    }\n",
              "\n",
              "    .dataframe thead th {\n",
              "        text-align: right;\n",
              "    }\n",
              "</style>\n",
              "<table border=\"1\" class=\"dataframe\">\n",
              "  <thead>\n",
              "    <tr style=\"text-align: right;\">\n",
              "      <th></th>\n",
              "      <th>order_id</th>\n",
              "      <th>product</th>\n",
              "      <th>quantity_ordered</th>\n",
              "      <th>price_each</th>\n",
              "      <th>order_date</th>\n",
              "      <th>purchase_address</th>\n",
              "      <th>month</th>\n",
              "      <th>total_price</th>\n",
              "      <th>state_city</th>\n",
              "      <th>hour</th>\n",
              "      <th>day</th>\n",
              "      <th>combos</th>\n",
              "    </tr>\n",
              "  </thead>\n",
              "  <tbody>\n",
              "    <tr>\n",
              "      <th>3</th>\n",
              "      <td>176560</td>\n",
              "      <td>Google Phone</td>\n",
              "      <td>1</td>\n",
              "      <td>600.00</td>\n",
              "      <td>2019-04-12 14:38:00</td>\n",
              "      <td>669 Spruce St, Los Angeles, CA 90001</td>\n",
              "      <td>4</td>\n",
              "      <td>600.00</td>\n",
              "      <td>Los Angeles(CA)</td>\n",
              "      <td>14</td>\n",
              "      <td>Friday</td>\n",
              "      <td>Google Phone,Wired Headphones</td>\n",
              "    </tr>\n",
              "    <tr>\n",
              "      <th>4</th>\n",
              "      <td>176560</td>\n",
              "      <td>Wired Headphones</td>\n",
              "      <td>1</td>\n",
              "      <td>11.99</td>\n",
              "      <td>2019-04-12 14:38:00</td>\n",
              "      <td>669 Spruce St, Los Angeles, CA 90001</td>\n",
              "      <td>4</td>\n",
              "      <td>11.99</td>\n",
              "      <td>Los Angeles(CA)</td>\n",
              "      <td>14</td>\n",
              "      <td>Friday</td>\n",
              "      <td>Google Phone,Wired Headphones</td>\n",
              "    </tr>\n",
              "    <tr>\n",
              "      <th>18</th>\n",
              "      <td>176574</td>\n",
              "      <td>Google Phone</td>\n",
              "      <td>1</td>\n",
              "      <td>600.00</td>\n",
              "      <td>2019-04-03 19:42:00</td>\n",
              "      <td>20 Hill St, Los Angeles, CA 90001</td>\n",
              "      <td>4</td>\n",
              "      <td>600.00</td>\n",
              "      <td>Los Angeles(CA)</td>\n",
              "      <td>19</td>\n",
              "      <td>Wednesday</td>\n",
              "      <td>Google Phone,USB-C Charging Cable</td>\n",
              "    </tr>\n",
              "    <tr>\n",
              "      <th>19</th>\n",
              "      <td>176574</td>\n",
              "      <td>USB-C Charging Cable</td>\n",
              "      <td>1</td>\n",
              "      <td>11.95</td>\n",
              "      <td>2019-04-03 19:42:00</td>\n",
              "      <td>20 Hill St, Los Angeles, CA 90001</td>\n",
              "      <td>4</td>\n",
              "      <td>11.95</td>\n",
              "      <td>Los Angeles(CA)</td>\n",
              "      <td>19</td>\n",
              "      <td>Wednesday</td>\n",
              "      <td>Google Phone,USB-C Charging Cable</td>\n",
              "    </tr>\n",
              "    <tr>\n",
              "      <th>30</th>\n",
              "      <td>176585</td>\n",
              "      <td>Bose SoundSport Headphones</td>\n",
              "      <td>1</td>\n",
              "      <td>99.99</td>\n",
              "      <td>2019-04-07 11:31:00</td>\n",
              "      <td>823 Highland St, Boston, MA 02215</td>\n",
              "      <td>4</td>\n",
              "      <td>99.99</td>\n",
              "      <td>Boston(MA)</td>\n",
              "      <td>11</td>\n",
              "      <td>Sunday</td>\n",
              "      <td>Bose SoundSport Headphones,Bose SoundSport Hea...</td>\n",
              "    </tr>\n",
              "  </tbody>\n",
              "</table>\n",
              "</div>\n",
              "      <button class=\"colab-df-convert\" onclick=\"convertToInteractive('df-94082a2a-63bb-4bf6-bb8a-615fe74254d9')\"\n",
              "              title=\"Convert this dataframe to an interactive table.\"\n",
              "              style=\"display:none;\">\n",
              "        \n",
              "  <svg xmlns=\"http://www.w3.org/2000/svg\" height=\"24px\"viewBox=\"0 0 24 24\"\n",
              "       width=\"24px\">\n",
              "    <path d=\"M0 0h24v24H0V0z\" fill=\"none\"/>\n",
              "    <path d=\"M18.56 5.44l.94 2.06.94-2.06 2.06-.94-2.06-.94-.94-2.06-.94 2.06-2.06.94zm-11 1L8.5 8.5l.94-2.06 2.06-.94-2.06-.94L8.5 2.5l-.94 2.06-2.06.94zm10 10l.94 2.06.94-2.06 2.06-.94-2.06-.94-.94-2.06-.94 2.06-2.06.94z\"/><path d=\"M17.41 7.96l-1.37-1.37c-.4-.4-.92-.59-1.43-.59-.52 0-1.04.2-1.43.59L10.3 9.45l-7.72 7.72c-.78.78-.78 2.05 0 2.83L4 21.41c.39.39.9.59 1.41.59.51 0 1.02-.2 1.41-.59l7.78-7.78 2.81-2.81c.8-.78.8-2.07 0-2.86zM5.41 20L4 18.59l7.72-7.72 1.47 1.35L5.41 20z\"/>\n",
              "  </svg>\n",
              "      </button>\n",
              "      \n",
              "  <style>\n",
              "    .colab-df-container {\n",
              "      display:flex;\n",
              "      flex-wrap:wrap;\n",
              "      gap: 12px;\n",
              "    }\n",
              "\n",
              "    .colab-df-convert {\n",
              "      background-color: #E8F0FE;\n",
              "      border: none;\n",
              "      border-radius: 50%;\n",
              "      cursor: pointer;\n",
              "      display: none;\n",
              "      fill: #1967D2;\n",
              "      height: 32px;\n",
              "      padding: 0 0 0 0;\n",
              "      width: 32px;\n",
              "    }\n",
              "\n",
              "    .colab-df-convert:hover {\n",
              "      background-color: #E2EBFA;\n",
              "      box-shadow: 0px 1px 2px rgba(60, 64, 67, 0.3), 0px 1px 3px 1px rgba(60, 64, 67, 0.15);\n",
              "      fill: #174EA6;\n",
              "    }\n",
              "\n",
              "    [theme=dark] .colab-df-convert {\n",
              "      background-color: #3B4455;\n",
              "      fill: #D2E3FC;\n",
              "    }\n",
              "\n",
              "    [theme=dark] .colab-df-convert:hover {\n",
              "      background-color: #434B5C;\n",
              "      box-shadow: 0px 1px 3px 1px rgba(0, 0, 0, 0.15);\n",
              "      filter: drop-shadow(0px 1px 2px rgba(0, 0, 0, 0.3));\n",
              "      fill: #FFFFFF;\n",
              "    }\n",
              "  </style>\n",
              "\n",
              "      <script>\n",
              "        const buttonEl =\n",
              "          document.querySelector('#df-94082a2a-63bb-4bf6-bb8a-615fe74254d9 button.colab-df-convert');\n",
              "        buttonEl.style.display =\n",
              "          google.colab.kernel.accessAllowed ? 'block' : 'none';\n",
              "\n",
              "        async function convertToInteractive(key) {\n",
              "          const element = document.querySelector('#df-94082a2a-63bb-4bf6-bb8a-615fe74254d9');\n",
              "          const dataTable =\n",
              "            await google.colab.kernel.invokeFunction('convertToInteractive',\n",
              "                                                     [key], {});\n",
              "          if (!dataTable) return;\n",
              "\n",
              "          const docLinkHtml = 'Like what you see? Visit the ' +\n",
              "            '<a target=\"_blank\" href=https://colab.research.google.com/notebooks/data_table.ipynb>data table notebook</a>'\n",
              "            + ' to learn more about interactive tables.';\n",
              "          element.innerHTML = '';\n",
              "          dataTable['output_type'] = 'display_data';\n",
              "          await google.colab.output.renderOutput(dataTable, element);\n",
              "          const docLink = document.createElement('div');\n",
              "          docLink.innerHTML = docLinkHtml;\n",
              "          element.appendChild(docLink);\n",
              "        }\n",
              "      </script>\n",
              "    </div>\n",
              "  </div>\n",
              "  "
            ]
          },
          "metadata": {},
          "execution_count": 44
        }
      ]
    },
    {
      "cell_type": "markdown",
      "source": [
        "i am joining the products together by grouping them on order_id."
      ],
      "metadata": {
        "id": "HqT09eKC28vp"
      }
    },
    {
      "cell_type": "code",
      "source": [
        "\n",
        "combo_df[\"combos\"] = combo_df.groupby(\"order_id\")[\"product\"].transform(lambda x : ','.join(x))"
      ],
      "metadata": {
        "colab": {
          "base_uri": "https://localhost:8080/"
        },
        "id": "-z2x0J3CYnzB",
        "outputId": "93d5ac90-3fbc-43a0-f1e2-25947b6d18b9"
      },
      "execution_count": null,
      "outputs": [
        {
          "output_type": "stream",
          "name": "stderr",
          "text": [
            "<ipython-input-45-35703906d5e3>:1: SettingWithCopyWarning: \n",
            "A value is trying to be set on a copy of a slice from a DataFrame.\n",
            "Try using .loc[row_indexer,col_indexer] = value instead\n",
            "\n",
            "See the caveats in the documentation: https://pandas.pydata.org/pandas-docs/stable/user_guide/indexing.html#returning-a-view-versus-a-copy\n",
            "  combo_df[\"combos\"] = combo_df.groupby(\"order_id\")[\"product\"].transform(lambda x : ','.join(x))\n"
          ]
        }
      ]
    },
    {
      "cell_type": "code",
      "source": [
        "combo_df.head()"
      ],
      "metadata": {
        "colab": {
          "base_uri": "https://localhost:8080/",
          "height": 354
        },
        "id": "G9YJ7Ryx1i0S",
        "outputId": "a81115df-6cef-4bc4-e226-0ed0b6c9f33d"
      },
      "execution_count": null,
      "outputs": [
        {
          "output_type": "execute_result",
          "data": {
            "text/plain": [
              "    order_id                     product  quantity_ordered  price_each  \\\n",
              "3     176560                Google Phone                 1      600.00   \n",
              "4     176560            Wired Headphones                 1       11.99   \n",
              "18    176574                Google Phone                 1      600.00   \n",
              "19    176574        USB-C Charging Cable                 1       11.95   \n",
              "30    176585  Bose SoundSport Headphones                 1       99.99   \n",
              "\n",
              "            order_date                      purchase_address  month  \\\n",
              "3  2019-04-12 14:38:00  669 Spruce St, Los Angeles, CA 90001      4   \n",
              "4  2019-04-12 14:38:00  669 Spruce St, Los Angeles, CA 90001      4   \n",
              "18 2019-04-03 19:42:00     20 Hill St, Los Angeles, CA 90001      4   \n",
              "19 2019-04-03 19:42:00     20 Hill St, Los Angeles, CA 90001      4   \n",
              "30 2019-04-07 11:31:00     823 Highland St, Boston, MA 02215      4   \n",
              "\n",
              "    total_price        state_city  hour        day  \\\n",
              "3        600.00   Los Angeles(CA)    14     Friday   \n",
              "4         11.99   Los Angeles(CA)    14     Friday   \n",
              "18       600.00   Los Angeles(CA)    19  Wednesday   \n",
              "19        11.95   Los Angeles(CA)    19  Wednesday   \n",
              "30        99.99        Boston(MA)    11     Sunday   \n",
              "\n",
              "                                               combos  \n",
              "3                       Google Phone,Wired Headphones  \n",
              "4                       Google Phone,Wired Headphones  \n",
              "18                  Google Phone,USB-C Charging Cable  \n",
              "19                  Google Phone,USB-C Charging Cable  \n",
              "30  Bose SoundSport Headphones,Bose SoundSport Hea...  "
            ],
            "text/html": [
              "\n",
              "  <div id=\"df-d4031e3f-87f7-4d3b-8b58-25c073457d81\">\n",
              "    <div class=\"colab-df-container\">\n",
              "      <div>\n",
              "<style scoped>\n",
              "    .dataframe tbody tr th:only-of-type {\n",
              "        vertical-align: middle;\n",
              "    }\n",
              "\n",
              "    .dataframe tbody tr th {\n",
              "        vertical-align: top;\n",
              "    }\n",
              "\n",
              "    .dataframe thead th {\n",
              "        text-align: right;\n",
              "    }\n",
              "</style>\n",
              "<table border=\"1\" class=\"dataframe\">\n",
              "  <thead>\n",
              "    <tr style=\"text-align: right;\">\n",
              "      <th></th>\n",
              "      <th>order_id</th>\n",
              "      <th>product</th>\n",
              "      <th>quantity_ordered</th>\n",
              "      <th>price_each</th>\n",
              "      <th>order_date</th>\n",
              "      <th>purchase_address</th>\n",
              "      <th>month</th>\n",
              "      <th>total_price</th>\n",
              "      <th>state_city</th>\n",
              "      <th>hour</th>\n",
              "      <th>day</th>\n",
              "      <th>combos</th>\n",
              "    </tr>\n",
              "  </thead>\n",
              "  <tbody>\n",
              "    <tr>\n",
              "      <th>3</th>\n",
              "      <td>176560</td>\n",
              "      <td>Google Phone</td>\n",
              "      <td>1</td>\n",
              "      <td>600.00</td>\n",
              "      <td>2019-04-12 14:38:00</td>\n",
              "      <td>669 Spruce St, Los Angeles, CA 90001</td>\n",
              "      <td>4</td>\n",
              "      <td>600.00</td>\n",
              "      <td>Los Angeles(CA)</td>\n",
              "      <td>14</td>\n",
              "      <td>Friday</td>\n",
              "      <td>Google Phone,Wired Headphones</td>\n",
              "    </tr>\n",
              "    <tr>\n",
              "      <th>4</th>\n",
              "      <td>176560</td>\n",
              "      <td>Wired Headphones</td>\n",
              "      <td>1</td>\n",
              "      <td>11.99</td>\n",
              "      <td>2019-04-12 14:38:00</td>\n",
              "      <td>669 Spruce St, Los Angeles, CA 90001</td>\n",
              "      <td>4</td>\n",
              "      <td>11.99</td>\n",
              "      <td>Los Angeles(CA)</td>\n",
              "      <td>14</td>\n",
              "      <td>Friday</td>\n",
              "      <td>Google Phone,Wired Headphones</td>\n",
              "    </tr>\n",
              "    <tr>\n",
              "      <th>18</th>\n",
              "      <td>176574</td>\n",
              "      <td>Google Phone</td>\n",
              "      <td>1</td>\n",
              "      <td>600.00</td>\n",
              "      <td>2019-04-03 19:42:00</td>\n",
              "      <td>20 Hill St, Los Angeles, CA 90001</td>\n",
              "      <td>4</td>\n",
              "      <td>600.00</td>\n",
              "      <td>Los Angeles(CA)</td>\n",
              "      <td>19</td>\n",
              "      <td>Wednesday</td>\n",
              "      <td>Google Phone,USB-C Charging Cable</td>\n",
              "    </tr>\n",
              "    <tr>\n",
              "      <th>19</th>\n",
              "      <td>176574</td>\n",
              "      <td>USB-C Charging Cable</td>\n",
              "      <td>1</td>\n",
              "      <td>11.95</td>\n",
              "      <td>2019-04-03 19:42:00</td>\n",
              "      <td>20 Hill St, Los Angeles, CA 90001</td>\n",
              "      <td>4</td>\n",
              "      <td>11.95</td>\n",
              "      <td>Los Angeles(CA)</td>\n",
              "      <td>19</td>\n",
              "      <td>Wednesday</td>\n",
              "      <td>Google Phone,USB-C Charging Cable</td>\n",
              "    </tr>\n",
              "    <tr>\n",
              "      <th>30</th>\n",
              "      <td>176585</td>\n",
              "      <td>Bose SoundSport Headphones</td>\n",
              "      <td>1</td>\n",
              "      <td>99.99</td>\n",
              "      <td>2019-04-07 11:31:00</td>\n",
              "      <td>823 Highland St, Boston, MA 02215</td>\n",
              "      <td>4</td>\n",
              "      <td>99.99</td>\n",
              "      <td>Boston(MA)</td>\n",
              "      <td>11</td>\n",
              "      <td>Sunday</td>\n",
              "      <td>Bose SoundSport Headphones,Bose SoundSport Hea...</td>\n",
              "    </tr>\n",
              "  </tbody>\n",
              "</table>\n",
              "</div>\n",
              "      <button class=\"colab-df-convert\" onclick=\"convertToInteractive('df-d4031e3f-87f7-4d3b-8b58-25c073457d81')\"\n",
              "              title=\"Convert this dataframe to an interactive table.\"\n",
              "              style=\"display:none;\">\n",
              "        \n",
              "  <svg xmlns=\"http://www.w3.org/2000/svg\" height=\"24px\"viewBox=\"0 0 24 24\"\n",
              "       width=\"24px\">\n",
              "    <path d=\"M0 0h24v24H0V0z\" fill=\"none\"/>\n",
              "    <path d=\"M18.56 5.44l.94 2.06.94-2.06 2.06-.94-2.06-.94-.94-2.06-.94 2.06-2.06.94zm-11 1L8.5 8.5l.94-2.06 2.06-.94-2.06-.94L8.5 2.5l-.94 2.06-2.06.94zm10 10l.94 2.06.94-2.06 2.06-.94-2.06-.94-.94-2.06-.94 2.06-2.06.94z\"/><path d=\"M17.41 7.96l-1.37-1.37c-.4-.4-.92-.59-1.43-.59-.52 0-1.04.2-1.43.59L10.3 9.45l-7.72 7.72c-.78.78-.78 2.05 0 2.83L4 21.41c.39.39.9.59 1.41.59.51 0 1.02-.2 1.41-.59l7.78-7.78 2.81-2.81c.8-.78.8-2.07 0-2.86zM5.41 20L4 18.59l7.72-7.72 1.47 1.35L5.41 20z\"/>\n",
              "  </svg>\n",
              "      </button>\n",
              "      \n",
              "  <style>\n",
              "    .colab-df-container {\n",
              "      display:flex;\n",
              "      flex-wrap:wrap;\n",
              "      gap: 12px;\n",
              "    }\n",
              "\n",
              "    .colab-df-convert {\n",
              "      background-color: #E8F0FE;\n",
              "      border: none;\n",
              "      border-radius: 50%;\n",
              "      cursor: pointer;\n",
              "      display: none;\n",
              "      fill: #1967D2;\n",
              "      height: 32px;\n",
              "      padding: 0 0 0 0;\n",
              "      width: 32px;\n",
              "    }\n",
              "\n",
              "    .colab-df-convert:hover {\n",
              "      background-color: #E2EBFA;\n",
              "      box-shadow: 0px 1px 2px rgba(60, 64, 67, 0.3), 0px 1px 3px 1px rgba(60, 64, 67, 0.15);\n",
              "      fill: #174EA6;\n",
              "    }\n",
              "\n",
              "    [theme=dark] .colab-df-convert {\n",
              "      background-color: #3B4455;\n",
              "      fill: #D2E3FC;\n",
              "    }\n",
              "\n",
              "    [theme=dark] .colab-df-convert:hover {\n",
              "      background-color: #434B5C;\n",
              "      box-shadow: 0px 1px 3px 1px rgba(0, 0, 0, 0.15);\n",
              "      filter: drop-shadow(0px 1px 2px rgba(0, 0, 0, 0.3));\n",
              "      fill: #FFFFFF;\n",
              "    }\n",
              "  </style>\n",
              "\n",
              "      <script>\n",
              "        const buttonEl =\n",
              "          document.querySelector('#df-d4031e3f-87f7-4d3b-8b58-25c073457d81 button.colab-df-convert');\n",
              "        buttonEl.style.display =\n",
              "          google.colab.kernel.accessAllowed ? 'block' : 'none';\n",
              "\n",
              "        async function convertToInteractive(key) {\n",
              "          const element = document.querySelector('#df-d4031e3f-87f7-4d3b-8b58-25c073457d81');\n",
              "          const dataTable =\n",
              "            await google.colab.kernel.invokeFunction('convertToInteractive',\n",
              "                                                     [key], {});\n",
              "          if (!dataTable) return;\n",
              "\n",
              "          const docLinkHtml = 'Like what you see? Visit the ' +\n",
              "            '<a target=\"_blank\" href=https://colab.research.google.com/notebooks/data_table.ipynb>data table notebook</a>'\n",
              "            + ' to learn more about interactive tables.';\n",
              "          element.innerHTML = '';\n",
              "          dataTable['output_type'] = 'display_data';\n",
              "          await google.colab.output.renderOutput(dataTable, element);\n",
              "          const docLink = document.createElement('div');\n",
              "          docLink.innerHTML = docLinkHtml;\n",
              "          element.appendChild(docLink);\n",
              "        }\n",
              "      </script>\n",
              "    </div>\n",
              "  </div>\n",
              "  "
            ]
          },
          "metadata": {},
          "execution_count": 46
        }
      ]
    },
    {
      "cell_type": "markdown",
      "source": [
        "Dropping the duplicates since it will be applied on  all the observations  which is not needed and having only the combos and order_id now."
      ],
      "metadata": {
        "id": "W8ojPnMv3Jv8"
      }
    },
    {
      "cell_type": "code",
      "source": [
        "combo_df = combo_df[[\"order_id\",\"combos\"]].drop_duplicates()"
      ],
      "metadata": {
        "id": "QWLyxT8FcIiR"
      },
      "execution_count": null,
      "outputs": []
    },
    {
      "cell_type": "code",
      "source": [
        "combo_df.head()"
      ],
      "metadata": {
        "colab": {
          "base_uri": "https://localhost:8080/",
          "height": 206
        },
        "id": "mIDxtVdmdIGt",
        "outputId": "1568db32-ff9c-442b-b8fa-a8a3870da9ee"
      },
      "execution_count": null,
      "outputs": [
        {
          "output_type": "execute_result",
          "data": {
            "text/plain": [
              "     order_id                                             combos\n",
              "3      176560                      Google Phone,Wired Headphones\n",
              "18     176574                  Google Phone,USB-C Charging Cable\n",
              "30     176585  Bose SoundSport Headphones,Bose SoundSport Hea...\n",
              "32     176586                AAA Batteries (4-pack),Google Phone\n",
              "119    176672      Lightning Charging Cable,USB-C Charging Cable"
            ],
            "text/html": [
              "\n",
              "  <div id=\"df-efbdb003-b511-475d-b5b8-1f9cf542834e\">\n",
              "    <div class=\"colab-df-container\">\n",
              "      <div>\n",
              "<style scoped>\n",
              "    .dataframe tbody tr th:only-of-type {\n",
              "        vertical-align: middle;\n",
              "    }\n",
              "\n",
              "    .dataframe tbody tr th {\n",
              "        vertical-align: top;\n",
              "    }\n",
              "\n",
              "    .dataframe thead th {\n",
              "        text-align: right;\n",
              "    }\n",
              "</style>\n",
              "<table border=\"1\" class=\"dataframe\">\n",
              "  <thead>\n",
              "    <tr style=\"text-align: right;\">\n",
              "      <th></th>\n",
              "      <th>order_id</th>\n",
              "      <th>combos</th>\n",
              "    </tr>\n",
              "  </thead>\n",
              "  <tbody>\n",
              "    <tr>\n",
              "      <th>3</th>\n",
              "      <td>176560</td>\n",
              "      <td>Google Phone,Wired Headphones</td>\n",
              "    </tr>\n",
              "    <tr>\n",
              "      <th>18</th>\n",
              "      <td>176574</td>\n",
              "      <td>Google Phone,USB-C Charging Cable</td>\n",
              "    </tr>\n",
              "    <tr>\n",
              "      <th>30</th>\n",
              "      <td>176585</td>\n",
              "      <td>Bose SoundSport Headphones,Bose SoundSport Hea...</td>\n",
              "    </tr>\n",
              "    <tr>\n",
              "      <th>32</th>\n",
              "      <td>176586</td>\n",
              "      <td>AAA Batteries (4-pack),Google Phone</td>\n",
              "    </tr>\n",
              "    <tr>\n",
              "      <th>119</th>\n",
              "      <td>176672</td>\n",
              "      <td>Lightning Charging Cable,USB-C Charging Cable</td>\n",
              "    </tr>\n",
              "  </tbody>\n",
              "</table>\n",
              "</div>\n",
              "      <button class=\"colab-df-convert\" onclick=\"convertToInteractive('df-efbdb003-b511-475d-b5b8-1f9cf542834e')\"\n",
              "              title=\"Convert this dataframe to an interactive table.\"\n",
              "              style=\"display:none;\">\n",
              "        \n",
              "  <svg xmlns=\"http://www.w3.org/2000/svg\" height=\"24px\"viewBox=\"0 0 24 24\"\n",
              "       width=\"24px\">\n",
              "    <path d=\"M0 0h24v24H0V0z\" fill=\"none\"/>\n",
              "    <path d=\"M18.56 5.44l.94 2.06.94-2.06 2.06-.94-2.06-.94-.94-2.06-.94 2.06-2.06.94zm-11 1L8.5 8.5l.94-2.06 2.06-.94-2.06-.94L8.5 2.5l-.94 2.06-2.06.94zm10 10l.94 2.06.94-2.06 2.06-.94-2.06-.94-.94-2.06-.94 2.06-2.06.94z\"/><path d=\"M17.41 7.96l-1.37-1.37c-.4-.4-.92-.59-1.43-.59-.52 0-1.04.2-1.43.59L10.3 9.45l-7.72 7.72c-.78.78-.78 2.05 0 2.83L4 21.41c.39.39.9.59 1.41.59.51 0 1.02-.2 1.41-.59l7.78-7.78 2.81-2.81c.8-.78.8-2.07 0-2.86zM5.41 20L4 18.59l7.72-7.72 1.47 1.35L5.41 20z\"/>\n",
              "  </svg>\n",
              "      </button>\n",
              "      \n",
              "  <style>\n",
              "    .colab-df-container {\n",
              "      display:flex;\n",
              "      flex-wrap:wrap;\n",
              "      gap: 12px;\n",
              "    }\n",
              "\n",
              "    .colab-df-convert {\n",
              "      background-color: #E8F0FE;\n",
              "      border: none;\n",
              "      border-radius: 50%;\n",
              "      cursor: pointer;\n",
              "      display: none;\n",
              "      fill: #1967D2;\n",
              "      height: 32px;\n",
              "      padding: 0 0 0 0;\n",
              "      width: 32px;\n",
              "    }\n",
              "\n",
              "    .colab-df-convert:hover {\n",
              "      background-color: #E2EBFA;\n",
              "      box-shadow: 0px 1px 2px rgba(60, 64, 67, 0.3), 0px 1px 3px 1px rgba(60, 64, 67, 0.15);\n",
              "      fill: #174EA6;\n",
              "    }\n",
              "\n",
              "    [theme=dark] .colab-df-convert {\n",
              "      background-color: #3B4455;\n",
              "      fill: #D2E3FC;\n",
              "    }\n",
              "\n",
              "    [theme=dark] .colab-df-convert:hover {\n",
              "      background-color: #434B5C;\n",
              "      box-shadow: 0px 1px 3px 1px rgba(0, 0, 0, 0.15);\n",
              "      filter: drop-shadow(0px 1px 2px rgba(0, 0, 0, 0.3));\n",
              "      fill: #FFFFFF;\n",
              "    }\n",
              "  </style>\n",
              "\n",
              "      <script>\n",
              "        const buttonEl =\n",
              "          document.querySelector('#df-efbdb003-b511-475d-b5b8-1f9cf542834e button.colab-df-convert');\n",
              "        buttonEl.style.display =\n",
              "          google.colab.kernel.accessAllowed ? 'block' : 'none';\n",
              "\n",
              "        async function convertToInteractive(key) {\n",
              "          const element = document.querySelector('#df-efbdb003-b511-475d-b5b8-1f9cf542834e');\n",
              "          const dataTable =\n",
              "            await google.colab.kernel.invokeFunction('convertToInteractive',\n",
              "                                                     [key], {});\n",
              "          if (!dataTable) return;\n",
              "\n",
              "          const docLinkHtml = 'Like what you see? Visit the ' +\n",
              "            '<a target=\"_blank\" href=https://colab.research.google.com/notebooks/data_table.ipynb>data table notebook</a>'\n",
              "            + ' to learn more about interactive tables.';\n",
              "          element.innerHTML = '';\n",
              "          dataTable['output_type'] = 'display_data';\n",
              "          await google.colab.output.renderOutput(dataTable, element);\n",
              "          const docLink = document.createElement('div');\n",
              "          docLink.innerHTML = docLinkHtml;\n",
              "          element.appendChild(docLink);\n",
              "        }\n",
              "      </script>\n",
              "    </div>\n",
              "  </div>\n",
              "  "
            ]
          },
          "metadata": {},
          "execution_count": 34
        }
      ]
    },
    {
      "cell_type": "markdown",
      "source": [
        "I am using combinations() method to get the combination and counter() method to count the combinations.\n"
      ],
      "metadata": {
        "id": "x872KswN3r_z"
      }
    },
    {
      "cell_type": "code",
      "source": [
        "from itertools import combinations\n",
        "from collections import Counter\n",
        "\n",
        "counting  = Counter()\n",
        "\n",
        "for i in combo_df[\"combos\"]:\n",
        "  sub_list = i.split(\",\")\n",
        "  counting.update(Counter(combinations(sub_list,2))) # i am using 2 inside combination beacaus i want 2 things ordered together,\n",
        "                                                     # but if you want 3 you can change it 3 or any number."
      ],
      "metadata": {
        "id": "dReF4iNyej9R"
      },
      "execution_count": null,
      "outputs": []
    },
    {
      "cell_type": "markdown",
      "source": [
        "Printing the top 10 most commonly ordered things togehter"
      ],
      "metadata": {
        "id": "ayXNNPOG6KyV"
      }
    },
    {
      "cell_type": "code",
      "source": [
        "for key , value in counting.most_common(10):\n",
        "  print(key, value) "
      ],
      "metadata": {
        "colab": {
          "base_uri": "https://localhost:8080/"
        },
        "id": "nj2hUcRG2i2z",
        "outputId": "8e2a49ca-1f5d-4e82-c543-a55d53575e4c"
      },
      "execution_count": null,
      "outputs": [
        {
          "output_type": "stream",
          "name": "stdout",
          "text": [
            "('iPhone', 'Lightning Charging Cable') 2066\n",
            "('Google Phone', 'USB-C Charging Cable') 2042\n",
            "('iPhone', 'Wired Headphones') 963\n",
            "('Google Phone', 'Wired Headphones') 916\n",
            "('iPhone', 'Apple Airpods Headphones') 760\n",
            "('Vareebadd Phone', 'USB-C Charging Cable') 745\n",
            "('Google Phone', 'Bose SoundSport Headphones') 500\n",
            "('USB-C Charging Cable', 'Wired Headphones') 436\n",
            "('Vareebadd Phone', 'Wired Headphones') 321\n",
            "('Lightning Charging Cable', 'Wired Headphones') 250\n"
          ]
        }
      ]
    },
    {
      "cell_type": "markdown",
      "source": [
        "As the counter gives output  similar to as dictionary so  iam converting into a dataframe."
      ],
      "metadata": {
        "id": "lrprI2w06fsr"
      }
    },
    {
      "cell_type": "code",
      "source": [
        "counting_df  =pd.DataFrame.from_dict(counting,orient=\"index\").reset_index()"
      ],
      "metadata": {
        "id": "uPQOJtgTXcRg"
      },
      "execution_count": null,
      "outputs": []
    },
    {
      "cell_type": "code",
      "source": [
        "counting_df.rename(columns={\"index\":\"combos\",0:\"no_of_times_ordered\"},inplace=True) "
      ],
      "metadata": {
        "id": "SJz4I6l7ZAhk"
      },
      "execution_count": null,
      "outputs": []
    },
    {
      "cell_type": "code",
      "source": [
        "counting_df.sort_values(by=\"no_of_times_ordered\",ascending=False)"
      ],
      "metadata": {
        "colab": {
          "base_uri": "https://localhost:8080/",
          "height": 423
        },
        "id": "_V_5NbRXCnXV",
        "outputId": "97bf1187-1ad4-4701-ef9a-0295855ad41f"
      },
      "execution_count": null,
      "outputs": [
        {
          "output_type": "execute_result",
          "data": {
            "text/plain": [
              "                                     combos  no_of_times_ordered\n",
              "8        (iPhone, Lightning Charging Cable)                 2066\n",
              "1      (Google Phone, USB-C Charging Cable)                 2042\n",
              "13               (iPhone, Wired Headphones)                  963\n",
              "0          (Google Phone, Wired Headphones)                  916\n",
              "16       (iPhone, Apple Airpods Headphones)                  760\n",
              "..                                      ...                  ...\n",
              "130              (27in FHD Monitor, iPhone)                    2\n",
              "276           (Google Phone, Flatscreen TV)                    2\n",
              "127   (ThinkPad Laptop, Macbook Pro Laptop)                    2\n",
              "279  (27in FHD Monitor, LG Washing Machine)                    2\n",
              "309                  (iPhone, 20in Monitor)                    2\n",
              "\n",
              "[310 rows x 2 columns]"
            ],
            "text/html": [
              "\n",
              "  <div id=\"df-1cc46bc0-6440-4df9-b998-846abab1d6db\">\n",
              "    <div class=\"colab-df-container\">\n",
              "      <div>\n",
              "<style scoped>\n",
              "    .dataframe tbody tr th:only-of-type {\n",
              "        vertical-align: middle;\n",
              "    }\n",
              "\n",
              "    .dataframe tbody tr th {\n",
              "        vertical-align: top;\n",
              "    }\n",
              "\n",
              "    .dataframe thead th {\n",
              "        text-align: right;\n",
              "    }\n",
              "</style>\n",
              "<table border=\"1\" class=\"dataframe\">\n",
              "  <thead>\n",
              "    <tr style=\"text-align: right;\">\n",
              "      <th></th>\n",
              "      <th>combos</th>\n",
              "      <th>no_of_times_ordered</th>\n",
              "    </tr>\n",
              "  </thead>\n",
              "  <tbody>\n",
              "    <tr>\n",
              "      <th>8</th>\n",
              "      <td>(iPhone, Lightning Charging Cable)</td>\n",
              "      <td>2066</td>\n",
              "    </tr>\n",
              "    <tr>\n",
              "      <th>1</th>\n",
              "      <td>(Google Phone, USB-C Charging Cable)</td>\n",
              "      <td>2042</td>\n",
              "    </tr>\n",
              "    <tr>\n",
              "      <th>13</th>\n",
              "      <td>(iPhone, Wired Headphones)</td>\n",
              "      <td>963</td>\n",
              "    </tr>\n",
              "    <tr>\n",
              "      <th>0</th>\n",
              "      <td>(Google Phone, Wired Headphones)</td>\n",
              "      <td>916</td>\n",
              "    </tr>\n",
              "    <tr>\n",
              "      <th>16</th>\n",
              "      <td>(iPhone, Apple Airpods Headphones)</td>\n",
              "      <td>760</td>\n",
              "    </tr>\n",
              "    <tr>\n",
              "      <th>...</th>\n",
              "      <td>...</td>\n",
              "      <td>...</td>\n",
              "    </tr>\n",
              "    <tr>\n",
              "      <th>130</th>\n",
              "      <td>(27in FHD Monitor, iPhone)</td>\n",
              "      <td>2</td>\n",
              "    </tr>\n",
              "    <tr>\n",
              "      <th>276</th>\n",
              "      <td>(Google Phone, Flatscreen TV)</td>\n",
              "      <td>2</td>\n",
              "    </tr>\n",
              "    <tr>\n",
              "      <th>127</th>\n",
              "      <td>(ThinkPad Laptop, Macbook Pro Laptop)</td>\n",
              "      <td>2</td>\n",
              "    </tr>\n",
              "    <tr>\n",
              "      <th>279</th>\n",
              "      <td>(27in FHD Monitor, LG Washing Machine)</td>\n",
              "      <td>2</td>\n",
              "    </tr>\n",
              "    <tr>\n",
              "      <th>309</th>\n",
              "      <td>(iPhone, 20in Monitor)</td>\n",
              "      <td>2</td>\n",
              "    </tr>\n",
              "  </tbody>\n",
              "</table>\n",
              "<p>310 rows × 2 columns</p>\n",
              "</div>\n",
              "      <button class=\"colab-df-convert\" onclick=\"convertToInteractive('df-1cc46bc0-6440-4df9-b998-846abab1d6db')\"\n",
              "              title=\"Convert this dataframe to an interactive table.\"\n",
              "              style=\"display:none;\">\n",
              "        \n",
              "  <svg xmlns=\"http://www.w3.org/2000/svg\" height=\"24px\"viewBox=\"0 0 24 24\"\n",
              "       width=\"24px\">\n",
              "    <path d=\"M0 0h24v24H0V0z\" fill=\"none\"/>\n",
              "    <path d=\"M18.56 5.44l.94 2.06.94-2.06 2.06-.94-2.06-.94-.94-2.06-.94 2.06-2.06.94zm-11 1L8.5 8.5l.94-2.06 2.06-.94-2.06-.94L8.5 2.5l-.94 2.06-2.06.94zm10 10l.94 2.06.94-2.06 2.06-.94-2.06-.94-.94-2.06-.94 2.06-2.06.94z\"/><path d=\"M17.41 7.96l-1.37-1.37c-.4-.4-.92-.59-1.43-.59-.52 0-1.04.2-1.43.59L10.3 9.45l-7.72 7.72c-.78.78-.78 2.05 0 2.83L4 21.41c.39.39.9.59 1.41.59.51 0 1.02-.2 1.41-.59l7.78-7.78 2.81-2.81c.8-.78.8-2.07 0-2.86zM5.41 20L4 18.59l7.72-7.72 1.47 1.35L5.41 20z\"/>\n",
              "  </svg>\n",
              "      </button>\n",
              "      \n",
              "  <style>\n",
              "    .colab-df-container {\n",
              "      display:flex;\n",
              "      flex-wrap:wrap;\n",
              "      gap: 12px;\n",
              "    }\n",
              "\n",
              "    .colab-df-convert {\n",
              "      background-color: #E8F0FE;\n",
              "      border: none;\n",
              "      border-radius: 50%;\n",
              "      cursor: pointer;\n",
              "      display: none;\n",
              "      fill: #1967D2;\n",
              "      height: 32px;\n",
              "      padding: 0 0 0 0;\n",
              "      width: 32px;\n",
              "    }\n",
              "\n",
              "    .colab-df-convert:hover {\n",
              "      background-color: #E2EBFA;\n",
              "      box-shadow: 0px 1px 2px rgba(60, 64, 67, 0.3), 0px 1px 3px 1px rgba(60, 64, 67, 0.15);\n",
              "      fill: #174EA6;\n",
              "    }\n",
              "\n",
              "    [theme=dark] .colab-df-convert {\n",
              "      background-color: #3B4455;\n",
              "      fill: #D2E3FC;\n",
              "    }\n",
              "\n",
              "    [theme=dark] .colab-df-convert:hover {\n",
              "      background-color: #434B5C;\n",
              "      box-shadow: 0px 1px 3px 1px rgba(0, 0, 0, 0.15);\n",
              "      filter: drop-shadow(0px 1px 2px rgba(0, 0, 0, 0.3));\n",
              "      fill: #FFFFFF;\n",
              "    }\n",
              "  </style>\n",
              "\n",
              "      <script>\n",
              "        const buttonEl =\n",
              "          document.querySelector('#df-1cc46bc0-6440-4df9-b998-846abab1d6db button.colab-df-convert');\n",
              "        buttonEl.style.display =\n",
              "          google.colab.kernel.accessAllowed ? 'block' : 'none';\n",
              "\n",
              "        async function convertToInteractive(key) {\n",
              "          const element = document.querySelector('#df-1cc46bc0-6440-4df9-b998-846abab1d6db');\n",
              "          const dataTable =\n",
              "            await google.colab.kernel.invokeFunction('convertToInteractive',\n",
              "                                                     [key], {});\n",
              "          if (!dataTable) return;\n",
              "\n",
              "          const docLinkHtml = 'Like what you see? Visit the ' +\n",
              "            '<a target=\"_blank\" href=https://colab.research.google.com/notebooks/data_table.ipynb>data table notebook</a>'\n",
              "            + ' to learn more about interactive tables.';\n",
              "          element.innerHTML = '';\n",
              "          dataTable['output_type'] = 'display_data';\n",
              "          await google.colab.output.renderOutput(dataTable, element);\n",
              "          const docLink = document.createElement('div');\n",
              "          docLink.innerHTML = docLinkHtml;\n",
              "          element.appendChild(docLink);\n",
              "        }\n",
              "      </script>\n",
              "    </div>\n",
              "  </div>\n",
              "  "
            ]
          },
          "metadata": {},
          "execution_count": 58
        }
      ]
    },
    {
      "cell_type": "code",
      "source": [
        "sns.set_style(\"darkgrid\")\n",
        "plt.figure(figsize=(16,8))\n",
        "sns.barplot(x = counting_df.loc[0:10,\"no_of_times_ordered\"],y = counting_df.loc[0:10,\"combos\"],data=counting_df,color=\"tab:purple\")\n",
        "plt.ylabel(\"COMBO'S\",color=\"red\",fontdict= font_2  )\n",
        "plt.xlabel('No Of times Ordered',fontdict= font_1 )\n",
        "plt.title(\"TOP 10 Frequently Ordered Combos\",fontdict= font_3 )\n",
        "plt.xticks(weight=\"normal\",fontname=\"sans-serif\",color=\"dodgerblue\",fontsize=12 )\n",
        "plt.yticks(weight=\"normal\",fontname=\"sans-serif\",color=\"dodgerblue\",fontsize=12 );\n"
      ],
      "metadata": {
        "colab": {
          "base_uri": "https://localhost:8080/",
          "height": 462
        },
        "id": "O4qOm4qvAQU0",
        "outputId": "e5858b7c-c7ea-49af-dc9a-784698897845"
      },
      "execution_count": null,
      "outputs": [
        {
          "output_type": "display_data",
          "data": {
            "text/plain": [
              "<Figure size 1152x576 with 1 Axes>"
            ],
            "image/png": "[encoded data removed]"
          },
          "metadata": {}
        }
      ]
    },
    {
      "cell_type": "markdown",
      "source": [
        "#### **6) (Total quantity ordered vs average price ) by products:**"
      ],
      "metadata": {
        "id": "9BIKnf438avi"
      }
    },
    {
      "cell_type": "code",
      "source": [
        "product_group = df.groupby('product') \n",
        "product_ordered = product_group.agg({\"quantity_ordered\":\"sum\",\"price_each\":\"mean\"})"
      ],
      "metadata": {
        "id": "MXQQdrnvFxX4"
      },
      "execution_count": null,
      "outputs": []
    },
    {
      "cell_type": "markdown",
      "source": [
        "I am using subplots and twinx() method to plot 2 yaxis in a same visual"
      ],
      "metadata": {
        "id": "uurXZsat9FAX"
      }
    },
    {
      "cell_type": "code",
      "source": [
        "fig,ax1 = plt.subplots(figsize=(14,7))\n",
        "ax1.bar( product_ordered.index , product_ordered[\"quantity_ordered\"],color=\"deepskyblue\" )\n",
        "ax1.set_xlabel(\"Products\",fontdict=font_1)\n",
        "ax1.set_ylabel(\"Total_Quantity_Ordered\",color=\"deepskyblue\",fontsize=16)\n",
        "ax2=ax1.twinx()\n",
        "ax2.plot(product_ordered.index, product_ordered[\"price_each\"],color=\"r\")\n",
        "ax2.set_ylabel(\"Mean_Price\",color=\"r\",fontsize=16)\n",
        "ax2.grid(False)\n",
        "ax1.grid(False)\n",
        "ax1.set_xticklabels(product_ordered.index, rotation=90,color=\"blue\",fontsize=12)\n",
        "ax1.set_title(\"(Total Quantity Ordered  vs Mean Price ) By Products\",fontdict=font_3 );\n"
      ],
      "metadata": {
        "colab": {
          "base_uri": "https://localhost:8080/",
          "height": 677
        },
        "id": "NxcOcCtuHrWe",
        "outputId": "e94c7055-9fee-4e67-bdfb-a145aaee3ee7"
      },
      "execution_count": null,
      "outputs": [
        {
          "output_type": "stream",
          "name": "stderr",
          "text": [
            "<ipython-input-217-0e37c4eca209>:10: UserWarning: FixedFormatter should only be used together with FixedLocator\n",
            "  ax1.set_xticklabels(product_ordered.index, rotation=90,color=\"blue\",fontsize=12)\n"
          ]
        },
        {
          "output_type": "display_data",
          "data": {
            "text/plain": [
              "<Figure size 1008x504 with 2 Axes>"
            ],
            "image/png": "[encoded data removed]"
          },
          "metadata": {}
        }
      ]
    },
    {
      "cell_type": "markdown",
      "source": [
        "**Note**: I had applied  the simple sum function , count and mean fucntion on above exploratory data analysis ,but i believe we can also use other stastical and probablistic computations "
      ],
      "metadata": {
        "id": "-_O9QbkLG9Uw"
      }
    },
    {
      "cell_type": "markdown",
      "source": [],
      "metadata": {
        "id": "cHG79r7lIwgr"
      }
    },
    {
      "cell_type": "markdown",
      "source": [
        "### **ACT:**"
      ],
      "metadata": {
        "id": "Sivqv4ukHip5"
      }
    },
    {
      "cell_type": "markdown",
      "source": [
        "#### **Findings of my analysis:**\n",
        "  \n",
        "\n",
        "1. **December** had the largest sales of the year 2019 of greater than **4million USD**\n",
        "2.  Almost every **day of the week** had the **constant** sales range of **4.5 million to 4.8 million USD**\n",
        "3. **San Francisco** had the largest sales nearest to **8 million USD**\n",
        "4. **Users** were **more active**  between **11.00 am and 13.00 pm** in day time and also **more active** between **19.00 pm to 21.00 pm** after sunset.\n",
        "5. (**iPhone,Lightning Charging Cable**) was the most frequently ordered combo of **2066 times**\n",
        "6. **AA and AAA batteries** (4pack) were the most ordered product of more than **25000 times** as the **average** price of **2.99 **and **3.84 USD** which  is lowest of all. \n"
      ],
      "metadata": {
        "id": "egAj2ZUxHrsc"
      }
    }
  ]
}